{
 "cells": [
  {
   "cell_type": "markdown",
   "id": "30b94636",
   "metadata": {
    "papermill": {
     "duration": 0.058578,
     "end_time": "2021-10-10T17:48:00.593323",
     "exception": false,
     "start_time": "2021-10-10T17:48:00.534745",
     "status": "completed"
    },
    "tags": []
   },
   "source": [
    "Churn - dependent feature ('Yes' denotes customers left, 'No' denotes customer stay here)"
   ]
  },
  {
   "cell_type": "markdown",
   "id": "88659400",
   "metadata": {
    "papermill": {
     "duration": 0.052086,
     "end_time": "2021-10-10T17:48:00.699700",
     "exception": false,
     "start_time": "2021-10-10T17:48:00.647614",
     "status": "completed"
    },
    "tags": []
   },
   "source": [
    "# Machine Learning in Customer Churn Prediction\n",
    "This work is to apply various machine learning method on Telco customers churn dataset (WA_Fn-UseC_-Telco-Customer-Churn.csv)\n",
    "\n",
    "* Random Forest Classifier\n",
    "* Support Vector Machine Classifier\n",
    "* K-Nearest Neighbour(KNN)\n",
    "* Naive Bayes\n",
    "* Decision Tree Classification"
   ]
  },
  {
   "cell_type": "code",
   "execution_count": 1,
   "id": "1d692712",
   "metadata": {
    "execution": {
     "iopub.execute_input": "2021-10-10T17:48:00.827923Z",
     "iopub.status.busy": "2021-10-10T17:48:00.827172Z",
     "iopub.status.idle": "2021-10-10T17:48:04.983715Z",
     "shell.execute_reply": "2021-10-10T17:48:04.983038Z",
     "shell.execute_reply.started": "2021-10-05T03:35:59.117213Z"
    },
    "papermill": {
     "duration": 4.23071,
     "end_time": "2021-10-10T17:48:04.983905",
     "exception": false,
     "start_time": "2021-10-10T17:48:00.753195",
     "status": "completed"
    },
    "tags": []
   },
   "outputs": [
    {
     "data": {
      "text/html": [
       "        <script type=\"text/javascript\">\n",
       "        window.PlotlyConfig = {MathJaxConfig: 'local'};\n",
       "        if (window.MathJax) {MathJax.Hub.Config({SVG: {font: \"STIX-Web\"}});}\n",
       "        if (typeof require !== 'undefined') {\n",
       "        require.undef(\"plotly\");\n",
       "        requirejs.config({\n",
       "            paths: {\n",
       "                'plotly': ['https://cdn.plot.ly/plotly-2.4.2.min']\n",
       "            }\n",
       "        });\n",
       "        require(['plotly'], function(Plotly) {\n",
       "            window._Plotly = Plotly;\n",
       "        });\n",
       "        }\n",
       "        </script>\n",
       "        "
      ]
     },
     "metadata": {},
     "output_type": "display_data"
    }
   ],
   "source": [
    "import numpy as np # Multi-dimensional array object\n",
    "import pandas as pd # Data Manipulation\n",
    "import matplotlib.pyplot as plt # Data Visualization\n",
    "import seaborn as sns # Data Visualization\n",
    "import plotly.express as px # Interactive Data Visualization\n",
    "from plotly.offline import download_plotlyjs, init_notebook_mode, plot, iplot # Offline version of the Plotly modules.\n",
    "import cufflinks as cf # Works as a connector between the pandas library and plotly\n",
    "cf.go_offline() \n",
    "\n"
   ]
  },
  {
   "cell_type": "code",
   "execution_count": 2,
   "id": "4a90fb1e",
   "metadata": {
    "execution": {
     "iopub.execute_input": "2021-10-10T17:48:05.111844Z",
     "iopub.status.busy": "2021-10-10T17:48:05.111144Z",
     "iopub.status.idle": "2021-10-10T17:48:05.247775Z",
     "shell.execute_reply": "2021-10-10T17:48:05.246905Z",
     "shell.execute_reply.started": "2021-10-05T03:36:03.224831Z"
    },
    "papermill": {
     "duration": 0.203441,
     "end_time": "2021-10-10T17:48:05.248000",
     "exception": false,
     "start_time": "2021-10-10T17:48:05.044559",
     "status": "completed"
    },
    "tags": []
   },
   "outputs": [
    {
     "data": {
      "text/html": [
       "<div>\n",
       "<style scoped>\n",
       "    .dataframe tbody tr th:only-of-type {\n",
       "        vertical-align: middle;\n",
       "    }\n",
       "\n",
       "    .dataframe tbody tr th {\n",
       "        vertical-align: top;\n",
       "    }\n",
       "\n",
       "    .dataframe thead th {\n",
       "        text-align: right;\n",
       "    }\n",
       "</style>\n",
       "<table border=\"1\" class=\"dataframe\">\n",
       "  <thead>\n",
       "    <tr style=\"text-align: right;\">\n",
       "      <th></th>\n",
       "      <th>customerID</th>\n",
       "      <th>gender</th>\n",
       "      <th>SeniorCitizen</th>\n",
       "      <th>Partner</th>\n",
       "      <th>Dependents</th>\n",
       "      <th>tenure</th>\n",
       "      <th>PhoneService</th>\n",
       "      <th>MultipleLines</th>\n",
       "      <th>InternetService</th>\n",
       "      <th>OnlineSecurity</th>\n",
       "      <th>...</th>\n",
       "      <th>DeviceProtection</th>\n",
       "      <th>TechSupport</th>\n",
       "      <th>StreamingTV</th>\n",
       "      <th>StreamingMovies</th>\n",
       "      <th>Contract</th>\n",
       "      <th>PaperlessBilling</th>\n",
       "      <th>PaymentMethod</th>\n",
       "      <th>MonthlyCharges</th>\n",
       "      <th>TotalCharges</th>\n",
       "      <th>Churn</th>\n",
       "    </tr>\n",
       "  </thead>\n",
       "  <tbody>\n",
       "    <tr>\n",
       "      <th>0</th>\n",
       "      <td>7590-VHVEG</td>\n",
       "      <td>Female</td>\n",
       "      <td>0</td>\n",
       "      <td>Yes</td>\n",
       "      <td>No</td>\n",
       "      <td>1</td>\n",
       "      <td>No</td>\n",
       "      <td>No phone service</td>\n",
       "      <td>DSL</td>\n",
       "      <td>No</td>\n",
       "      <td>...</td>\n",
       "      <td>No</td>\n",
       "      <td>No</td>\n",
       "      <td>No</td>\n",
       "      <td>No</td>\n",
       "      <td>Month-to-month</td>\n",
       "      <td>Yes</td>\n",
       "      <td>Electronic check</td>\n",
       "      <td>29.85</td>\n",
       "      <td>29.85</td>\n",
       "      <td>No</td>\n",
       "    </tr>\n",
       "    <tr>\n",
       "      <th>1</th>\n",
       "      <td>5575-GNVDE</td>\n",
       "      <td>Male</td>\n",
       "      <td>0</td>\n",
       "      <td>No</td>\n",
       "      <td>No</td>\n",
       "      <td>34</td>\n",
       "      <td>Yes</td>\n",
       "      <td>No</td>\n",
       "      <td>DSL</td>\n",
       "      <td>Yes</td>\n",
       "      <td>...</td>\n",
       "      <td>Yes</td>\n",
       "      <td>No</td>\n",
       "      <td>No</td>\n",
       "      <td>No</td>\n",
       "      <td>One year</td>\n",
       "      <td>No</td>\n",
       "      <td>Mailed check</td>\n",
       "      <td>56.95</td>\n",
       "      <td>1889.5</td>\n",
       "      <td>No</td>\n",
       "    </tr>\n",
       "    <tr>\n",
       "      <th>2</th>\n",
       "      <td>3668-QPYBK</td>\n",
       "      <td>Male</td>\n",
       "      <td>0</td>\n",
       "      <td>No</td>\n",
       "      <td>No</td>\n",
       "      <td>2</td>\n",
       "      <td>Yes</td>\n",
       "      <td>No</td>\n",
       "      <td>DSL</td>\n",
       "      <td>Yes</td>\n",
       "      <td>...</td>\n",
       "      <td>No</td>\n",
       "      <td>No</td>\n",
       "      <td>No</td>\n",
       "      <td>No</td>\n",
       "      <td>Month-to-month</td>\n",
       "      <td>Yes</td>\n",
       "      <td>Mailed check</td>\n",
       "      <td>53.85</td>\n",
       "      <td>108.15</td>\n",
       "      <td>Yes</td>\n",
       "    </tr>\n",
       "    <tr>\n",
       "      <th>3</th>\n",
       "      <td>7795-CFOCW</td>\n",
       "      <td>Male</td>\n",
       "      <td>0</td>\n",
       "      <td>No</td>\n",
       "      <td>No</td>\n",
       "      <td>45</td>\n",
       "      <td>No</td>\n",
       "      <td>No phone service</td>\n",
       "      <td>DSL</td>\n",
       "      <td>Yes</td>\n",
       "      <td>...</td>\n",
       "      <td>Yes</td>\n",
       "      <td>Yes</td>\n",
       "      <td>No</td>\n",
       "      <td>No</td>\n",
       "      <td>One year</td>\n",
       "      <td>No</td>\n",
       "      <td>Bank transfer (automatic)</td>\n",
       "      <td>42.30</td>\n",
       "      <td>1840.75</td>\n",
       "      <td>No</td>\n",
       "    </tr>\n",
       "    <tr>\n",
       "      <th>4</th>\n",
       "      <td>9237-HQITU</td>\n",
       "      <td>Female</td>\n",
       "      <td>0</td>\n",
       "      <td>No</td>\n",
       "      <td>No</td>\n",
       "      <td>2</td>\n",
       "      <td>Yes</td>\n",
       "      <td>No</td>\n",
       "      <td>Fiber optic</td>\n",
       "      <td>No</td>\n",
       "      <td>...</td>\n",
       "      <td>No</td>\n",
       "      <td>No</td>\n",
       "      <td>No</td>\n",
       "      <td>No</td>\n",
       "      <td>Month-to-month</td>\n",
       "      <td>Yes</td>\n",
       "      <td>Electronic check</td>\n",
       "      <td>70.70</td>\n",
       "      <td>151.65</td>\n",
       "      <td>Yes</td>\n",
       "    </tr>\n",
       "  </tbody>\n",
       "</table>\n",
       "<p>5 rows × 21 columns</p>\n",
       "</div>"
      ],
      "text/plain": [
       "   customerID  gender  SeniorCitizen Partner Dependents  tenure PhoneService  \\\n",
       "0  7590-VHVEG  Female              0     Yes         No       1           No   \n",
       "1  5575-GNVDE    Male              0      No         No      34          Yes   \n",
       "2  3668-QPYBK    Male              0      No         No       2          Yes   \n",
       "3  7795-CFOCW    Male              0      No         No      45           No   \n",
       "4  9237-HQITU  Female              0      No         No       2          Yes   \n",
       "\n",
       "      MultipleLines InternetService OnlineSecurity  ... DeviceProtection  \\\n",
       "0  No phone service             DSL             No  ...               No   \n",
       "1                No             DSL            Yes  ...              Yes   \n",
       "2                No             DSL            Yes  ...               No   \n",
       "3  No phone service             DSL            Yes  ...              Yes   \n",
       "4                No     Fiber optic             No  ...               No   \n",
       "\n",
       "  TechSupport StreamingTV StreamingMovies        Contract PaperlessBilling  \\\n",
       "0          No          No              No  Month-to-month              Yes   \n",
       "1          No          No              No        One year               No   \n",
       "2          No          No              No  Month-to-month              Yes   \n",
       "3         Yes          No              No        One year               No   \n",
       "4          No          No              No  Month-to-month              Yes   \n",
       "\n",
       "               PaymentMethod MonthlyCharges  TotalCharges Churn  \n",
       "0           Electronic check          29.85         29.85    No  \n",
       "1               Mailed check          56.95        1889.5    No  \n",
       "2               Mailed check          53.85        108.15   Yes  \n",
       "3  Bank transfer (automatic)          42.30       1840.75    No  \n",
       "4           Electronic check          70.70        151.65   Yes  \n",
       "\n",
       "[5 rows x 21 columns]"
      ]
     },
     "execution_count": 2,
     "metadata": {},
     "output_type": "execute_result"
    }
   ],
   "source": [
    "#load data on dataframe\n",
    "telco_df = pd.read_csv(\"/kaggle/input/telco-customer-churn/WA_Fn-UseC_-Telco-Customer-Churn.csv\")\n",
    "#display dataframe\n",
    "telco_df.head()\n"
   ]
  },
  {
   "cell_type": "code",
   "execution_count": 3,
   "id": "86bde57d",
   "metadata": {
    "execution": {
     "iopub.execute_input": "2021-10-10T17:48:05.366609Z",
     "iopub.status.busy": "2021-10-10T17:48:05.365583Z",
     "iopub.status.idle": "2021-10-10T17:48:05.370356Z",
     "shell.execute_reply": "2021-10-10T17:48:05.369603Z",
     "shell.execute_reply.started": "2021-10-05T03:36:03.33135Z"
    },
    "papermill": {
     "duration": 0.065942,
     "end_time": "2021-10-10T17:48:05.370527",
     "exception": false,
     "start_time": "2021-10-10T17:48:05.304585",
     "status": "completed"
    },
    "tags": []
   },
   "outputs": [
    {
     "data": {
      "text/plain": [
       "(7043, 21)"
      ]
     },
     "execution_count": 3,
     "metadata": {},
     "output_type": "execute_result"
    }
   ],
   "source": [
    "#count of rows and columns\n",
    "telco_df.shape"
   ]
  },
  {
   "cell_type": "code",
   "execution_count": 4,
   "id": "49447c01",
   "metadata": {
    "execution": {
     "iopub.execute_input": "2021-10-10T17:48:05.504235Z",
     "iopub.status.busy": "2021-10-10T17:48:05.501743Z",
     "iopub.status.idle": "2021-10-10T17:48:05.526957Z",
     "shell.execute_reply": "2021-10-10T17:48:05.526420Z",
     "shell.execute_reply.started": "2021-10-05T03:36:03.341125Z"
    },
    "papermill": {
     "duration": 0.10164,
     "end_time": "2021-10-10T17:48:05.527125",
     "exception": false,
     "start_time": "2021-10-10T17:48:05.425485",
     "status": "completed"
    },
    "tags": []
   },
   "outputs": [
    {
     "name": "stdout",
     "output_type": "stream",
     "text": [
      "<class 'pandas.core.frame.DataFrame'>\n",
      "RangeIndex: 7043 entries, 0 to 7042\n",
      "Data columns (total 21 columns):\n",
      " #   Column            Non-Null Count  Dtype  \n",
      "---  ------            --------------  -----  \n",
      " 0   customerID        7043 non-null   object \n",
      " 1   gender            7043 non-null   object \n",
      " 2   SeniorCitizen     7043 non-null   int64  \n",
      " 3   Partner           7043 non-null   object \n",
      " 4   Dependents        7043 non-null   object \n",
      " 5   tenure            7043 non-null   int64  \n",
      " 6   PhoneService      7043 non-null   object \n",
      " 7   MultipleLines     7043 non-null   object \n",
      " 8   InternetService   7043 non-null   object \n",
      " 9   OnlineSecurity    7043 non-null   object \n",
      " 10  OnlineBackup      7043 non-null   object \n",
      " 11  DeviceProtection  7043 non-null   object \n",
      " 12  TechSupport       7043 non-null   object \n",
      " 13  StreamingTV       7043 non-null   object \n",
      " 14  StreamingMovies   7043 non-null   object \n",
      " 15  Contract          7043 non-null   object \n",
      " 16  PaperlessBilling  7043 non-null   object \n",
      " 17  PaymentMethod     7043 non-null   object \n",
      " 18  MonthlyCharges    7043 non-null   float64\n",
      " 19  TotalCharges      7043 non-null   object \n",
      " 20  Churn             7043 non-null   object \n",
      "dtypes: float64(1), int64(2), object(18)\n",
      "memory usage: 1.1+ MB\n"
     ]
    }
   ],
   "source": [
    "# Get data frame info\n",
    "telco_df.info()"
   ]
  },
  {
   "cell_type": "code",
   "execution_count": 5,
   "id": "837efe84",
   "metadata": {
    "execution": {
     "iopub.execute_input": "2021-10-10T17:48:05.646884Z",
     "iopub.status.busy": "2021-10-10T17:48:05.645923Z",
     "iopub.status.idle": "2021-10-10T17:48:05.674990Z",
     "shell.execute_reply": "2021-10-10T17:48:05.674371Z",
     "shell.execute_reply.started": "2021-10-05T03:36:03.388172Z"
    },
    "papermill": {
     "duration": 0.093572,
     "end_time": "2021-10-10T17:48:05.675151",
     "exception": false,
     "start_time": "2021-10-10T17:48:05.581579",
     "status": "completed"
    },
    "tags": []
   },
   "outputs": [
    {
     "name": "stdout",
     "output_type": "stream",
     "text": [
      "<class 'pandas.core.frame.DataFrame'>\n",
      "RangeIndex: 7043 entries, 0 to 7042\n",
      "Data columns (total 21 columns):\n",
      " #   Column            Non-Null Count  Dtype  \n",
      "---  ------            --------------  -----  \n",
      " 0   customerID        7043 non-null   object \n",
      " 1   gender            7043 non-null   object \n",
      " 2   SeniorCitizen     7043 non-null   int64  \n",
      " 3   Partner           7043 non-null   object \n",
      " 4   Dependents        7043 non-null   object \n",
      " 5   tenure            7043 non-null   int64  \n",
      " 6   PhoneService      7043 non-null   object \n",
      " 7   MultipleLines     7043 non-null   object \n",
      " 8   InternetService   7043 non-null   object \n",
      " 9   OnlineSecurity    7043 non-null   object \n",
      " 10  OnlineBackup      7043 non-null   object \n",
      " 11  DeviceProtection  7043 non-null   object \n",
      " 12  TechSupport       7043 non-null   object \n",
      " 13  StreamingTV       7043 non-null   object \n",
      " 14  StreamingMovies   7043 non-null   object \n",
      " 15  Contract          7043 non-null   object \n",
      " 16  PaperlessBilling  7043 non-null   object \n",
      " 17  PaymentMethod     7043 non-null   object \n",
      " 18  MonthlyCharges    7043 non-null   float64\n",
      " 19  TotalCharges      7032 non-null   float64\n",
      " 20  Churn             7043 non-null   object \n",
      "dtypes: float64(2), int64(2), object(17)\n",
      "memory usage: 1.1+ MB\n"
     ]
    }
   ],
   "source": [
    "# Change TotalCharges column type to numeric\n",
    "telco_df.TotalCharges = pd.to_numeric(telco_df.TotalCharges, errors='coerce')\n",
    "telco_df.info()"
   ]
  },
  {
   "cell_type": "code",
   "execution_count": 6,
   "id": "80959567",
   "metadata": {
    "execution": {
     "iopub.execute_input": "2021-10-10T17:48:05.797167Z",
     "iopub.status.busy": "2021-10-10T17:48:05.796483Z",
     "iopub.status.idle": "2021-10-10T17:48:05.819234Z",
     "shell.execute_reply": "2021-10-10T17:48:05.818703Z",
     "shell.execute_reply.started": "2021-10-05T03:36:03.428616Z"
    },
    "papermill": {
     "duration": 0.086824,
     "end_time": "2021-10-10T17:48:05.819386",
     "exception": false,
     "start_time": "2021-10-10T17:48:05.732562",
     "status": "completed"
    },
    "tags": []
   },
   "outputs": [
    {
     "data": {
      "text/html": [
       "<div>\n",
       "<style scoped>\n",
       "    .dataframe tbody tr th:only-of-type {\n",
       "        vertical-align: middle;\n",
       "    }\n",
       "\n",
       "    .dataframe tbody tr th {\n",
       "        vertical-align: top;\n",
       "    }\n",
       "\n",
       "    .dataframe thead th {\n",
       "        text-align: right;\n",
       "    }\n",
       "</style>\n",
       "<table border=\"1\" class=\"dataframe\">\n",
       "  <thead>\n",
       "    <tr style=\"text-align: right;\">\n",
       "      <th></th>\n",
       "      <th>SeniorCitizen</th>\n",
       "      <th>tenure</th>\n",
       "      <th>MonthlyCharges</th>\n",
       "      <th>TotalCharges</th>\n",
       "    </tr>\n",
       "  </thead>\n",
       "  <tbody>\n",
       "    <tr>\n",
       "      <th>count</th>\n",
       "      <td>7043.000000</td>\n",
       "      <td>7043.000000</td>\n",
       "      <td>7043.000000</td>\n",
       "      <td>7032.000000</td>\n",
       "    </tr>\n",
       "    <tr>\n",
       "      <th>mean</th>\n",
       "      <td>0.162147</td>\n",
       "      <td>32.371149</td>\n",
       "      <td>64.761692</td>\n",
       "      <td>2283.300441</td>\n",
       "    </tr>\n",
       "    <tr>\n",
       "      <th>std</th>\n",
       "      <td>0.368612</td>\n",
       "      <td>24.559481</td>\n",
       "      <td>30.090047</td>\n",
       "      <td>2266.771362</td>\n",
       "    </tr>\n",
       "    <tr>\n",
       "      <th>min</th>\n",
       "      <td>0.000000</td>\n",
       "      <td>0.000000</td>\n",
       "      <td>18.250000</td>\n",
       "      <td>18.800000</td>\n",
       "    </tr>\n",
       "    <tr>\n",
       "      <th>25%</th>\n",
       "      <td>0.000000</td>\n",
       "      <td>9.000000</td>\n",
       "      <td>35.500000</td>\n",
       "      <td>401.450000</td>\n",
       "    </tr>\n",
       "    <tr>\n",
       "      <th>50%</th>\n",
       "      <td>0.000000</td>\n",
       "      <td>29.000000</td>\n",
       "      <td>70.350000</td>\n",
       "      <td>1397.475000</td>\n",
       "    </tr>\n",
       "    <tr>\n",
       "      <th>75%</th>\n",
       "      <td>0.000000</td>\n",
       "      <td>55.000000</td>\n",
       "      <td>89.850000</td>\n",
       "      <td>3794.737500</td>\n",
       "    </tr>\n",
       "    <tr>\n",
       "      <th>max</th>\n",
       "      <td>1.000000</td>\n",
       "      <td>72.000000</td>\n",
       "      <td>118.750000</td>\n",
       "      <td>8684.800000</td>\n",
       "    </tr>\n",
       "  </tbody>\n",
       "</table>\n",
       "</div>"
      ],
      "text/plain": [
       "       SeniorCitizen       tenure  MonthlyCharges  TotalCharges\n",
       "count    7043.000000  7043.000000     7043.000000   7032.000000\n",
       "mean        0.162147    32.371149       64.761692   2283.300441\n",
       "std         0.368612    24.559481       30.090047   2266.771362\n",
       "min         0.000000     0.000000       18.250000     18.800000\n",
       "25%         0.000000     9.000000       35.500000    401.450000\n",
       "50%         0.000000    29.000000       70.350000   1397.475000\n",
       "75%         0.000000    55.000000       89.850000   3794.737500\n",
       "max         1.000000    72.000000      118.750000   8684.800000"
      ]
     },
     "execution_count": 6,
     "metadata": {},
     "output_type": "execute_result"
    }
   ],
   "source": [
    "# Get the statistics of the data frame\n",
    "telco_df.describe()"
   ]
  },
  {
   "cell_type": "code",
   "execution_count": 7,
   "id": "3c4d562a",
   "metadata": {
    "execution": {
     "iopub.execute_input": "2021-10-10T17:48:05.957804Z",
     "iopub.status.busy": "2021-10-10T17:48:05.956974Z",
     "iopub.status.idle": "2021-10-10T17:48:05.965025Z",
     "shell.execute_reply": "2021-10-10T17:48:05.965545Z",
     "shell.execute_reply.started": "2021-10-05T03:36:03.461139Z"
    },
    "papermill": {
     "duration": 0.087171,
     "end_time": "2021-10-10T17:48:05.965749",
     "exception": false,
     "start_time": "2021-10-10T17:48:05.878578",
     "status": "completed"
    },
    "tags": []
   },
   "outputs": [],
   "source": [
    "# There are 11 missing values out of 7043 values in TotalCharges column. I prefer deleting rows with null values \n",
    "telco_df.dropna(inplace = True)"
   ]
  },
  {
   "cell_type": "code",
   "execution_count": 8,
   "id": "15023757",
   "metadata": {
    "execution": {
     "iopub.execute_input": "2021-10-10T17:48:06.089429Z",
     "iopub.status.busy": "2021-10-10T17:48:06.088711Z",
     "iopub.status.idle": "2021-10-10T17:48:06.095006Z",
     "shell.execute_reply": "2021-10-10T17:48:06.095511Z",
     "shell.execute_reply.started": "2021-10-05T03:36:03.489026Z"
    },
    "papermill": {
     "duration": 0.069937,
     "end_time": "2021-10-10T17:48:06.095708",
     "exception": false,
     "start_time": "2021-10-10T17:48:06.025771",
     "status": "completed"
    },
    "tags": []
   },
   "outputs": [],
   "source": [
    "# We don't need customerID column for analyzing\n",
    "telco_df.drop(['customerID'], axis =1, inplace =True)"
   ]
  },
  {
   "cell_type": "code",
   "execution_count": 9,
   "id": "2c5f04d8",
   "metadata": {
    "execution": {
     "iopub.execute_input": "2021-10-10T17:48:06.220293Z",
     "iopub.status.busy": "2021-10-10T17:48:06.219431Z",
     "iopub.status.idle": "2021-10-10T17:48:06.313218Z",
     "shell.execute_reply": "2021-10-10T17:48:06.313821Z",
     "shell.execute_reply.started": "2021-10-05T03:36:03.504632Z"
    },
    "papermill": {
     "duration": 0.155663,
     "end_time": "2021-10-10T17:48:06.314033",
     "exception": false,
     "start_time": "2021-10-10T17:48:06.158370",
     "status": "completed"
    },
    "tags": []
   },
   "outputs": [
    {
     "data": {
      "text/html": [
       "<div>\n",
       "<style scoped>\n",
       "    .dataframe tbody tr th:only-of-type {\n",
       "        vertical-align: middle;\n",
       "    }\n",
       "\n",
       "    .dataframe tbody tr th {\n",
       "        vertical-align: top;\n",
       "    }\n",
       "\n",
       "    .dataframe thead th {\n",
       "        text-align: right;\n",
       "    }\n",
       "</style>\n",
       "<table border=\"1\" class=\"dataframe\">\n",
       "  <thead>\n",
       "    <tr style=\"text-align: right;\">\n",
       "      <th></th>\n",
       "      <th>gender</th>\n",
       "      <th>SeniorCitizen</th>\n",
       "      <th>Partner</th>\n",
       "      <th>Dependents</th>\n",
       "      <th>tenure</th>\n",
       "      <th>PhoneService</th>\n",
       "      <th>MultipleLines</th>\n",
       "      <th>InternetService</th>\n",
       "      <th>OnlineSecurity</th>\n",
       "      <th>OnlineBackup</th>\n",
       "      <th>DeviceProtection</th>\n",
       "      <th>TechSupport</th>\n",
       "      <th>StreamingTV</th>\n",
       "      <th>StreamingMovies</th>\n",
       "      <th>Contract</th>\n",
       "      <th>PaperlessBilling</th>\n",
       "      <th>PaymentMethod</th>\n",
       "      <th>MonthlyCharges</th>\n",
       "      <th>TotalCharges</th>\n",
       "      <th>Churn</th>\n",
       "    </tr>\n",
       "  </thead>\n",
       "  <tbody>\n",
       "    <tr>\n",
       "      <th>0</th>\n",
       "      <td>0</td>\n",
       "      <td>0</td>\n",
       "      <td>1</td>\n",
       "      <td>0</td>\n",
       "      <td>1</td>\n",
       "      <td>0</td>\n",
       "      <td>-1</td>\n",
       "      <td>DSL</td>\n",
       "      <td>0</td>\n",
       "      <td>1</td>\n",
       "      <td>0</td>\n",
       "      <td>0</td>\n",
       "      <td>0</td>\n",
       "      <td>0</td>\n",
       "      <td>Month-to-month</td>\n",
       "      <td>1</td>\n",
       "      <td>Electronic check</td>\n",
       "      <td>29.85</td>\n",
       "      <td>29.85</td>\n",
       "      <td>0</td>\n",
       "    </tr>\n",
       "    <tr>\n",
       "      <th>1</th>\n",
       "      <td>1</td>\n",
       "      <td>0</td>\n",
       "      <td>0</td>\n",
       "      <td>0</td>\n",
       "      <td>34</td>\n",
       "      <td>1</td>\n",
       "      <td>0</td>\n",
       "      <td>DSL</td>\n",
       "      <td>1</td>\n",
       "      <td>0</td>\n",
       "      <td>1</td>\n",
       "      <td>0</td>\n",
       "      <td>0</td>\n",
       "      <td>0</td>\n",
       "      <td>One year</td>\n",
       "      <td>0</td>\n",
       "      <td>Mailed check</td>\n",
       "      <td>56.95</td>\n",
       "      <td>1889.50</td>\n",
       "      <td>0</td>\n",
       "    </tr>\n",
       "    <tr>\n",
       "      <th>2</th>\n",
       "      <td>1</td>\n",
       "      <td>0</td>\n",
       "      <td>0</td>\n",
       "      <td>0</td>\n",
       "      <td>2</td>\n",
       "      <td>1</td>\n",
       "      <td>0</td>\n",
       "      <td>DSL</td>\n",
       "      <td>1</td>\n",
       "      <td>1</td>\n",
       "      <td>0</td>\n",
       "      <td>0</td>\n",
       "      <td>0</td>\n",
       "      <td>0</td>\n",
       "      <td>Month-to-month</td>\n",
       "      <td>1</td>\n",
       "      <td>Mailed check</td>\n",
       "      <td>53.85</td>\n",
       "      <td>108.15</td>\n",
       "      <td>1</td>\n",
       "    </tr>\n",
       "    <tr>\n",
       "      <th>3</th>\n",
       "      <td>1</td>\n",
       "      <td>0</td>\n",
       "      <td>0</td>\n",
       "      <td>0</td>\n",
       "      <td>45</td>\n",
       "      <td>0</td>\n",
       "      <td>-1</td>\n",
       "      <td>DSL</td>\n",
       "      <td>1</td>\n",
       "      <td>0</td>\n",
       "      <td>1</td>\n",
       "      <td>1</td>\n",
       "      <td>0</td>\n",
       "      <td>0</td>\n",
       "      <td>One year</td>\n",
       "      <td>0</td>\n",
       "      <td>Bank transfer (automatic)</td>\n",
       "      <td>42.30</td>\n",
       "      <td>1840.75</td>\n",
       "      <td>0</td>\n",
       "    </tr>\n",
       "    <tr>\n",
       "      <th>4</th>\n",
       "      <td>0</td>\n",
       "      <td>0</td>\n",
       "      <td>0</td>\n",
       "      <td>0</td>\n",
       "      <td>2</td>\n",
       "      <td>1</td>\n",
       "      <td>0</td>\n",
       "      <td>Fiber optic</td>\n",
       "      <td>0</td>\n",
       "      <td>0</td>\n",
       "      <td>0</td>\n",
       "      <td>0</td>\n",
       "      <td>0</td>\n",
       "      <td>0</td>\n",
       "      <td>Month-to-month</td>\n",
       "      <td>1</td>\n",
       "      <td>Electronic check</td>\n",
       "      <td>70.70</td>\n",
       "      <td>151.65</td>\n",
       "      <td>1</td>\n",
       "    </tr>\n",
       "  </tbody>\n",
       "</table>\n",
       "</div>"
      ],
      "text/plain": [
       "   gender  SeniorCitizen  Partner  Dependents  tenure  PhoneService  \\\n",
       "0       0              0        1           0       1             0   \n",
       "1       1              0        0           0      34             1   \n",
       "2       1              0        0           0       2             1   \n",
       "3       1              0        0           0      45             0   \n",
       "4       0              0        0           0       2             1   \n",
       "\n",
       "   MultipleLines InternetService  OnlineSecurity  OnlineBackup  \\\n",
       "0             -1             DSL               0             1   \n",
       "1              0             DSL               1             0   \n",
       "2              0             DSL               1             1   \n",
       "3             -1             DSL               1             0   \n",
       "4              0     Fiber optic               0             0   \n",
       "\n",
       "   DeviceProtection  TechSupport  StreamingTV  StreamingMovies  \\\n",
       "0                 0            0            0                0   \n",
       "1                 1            0            0                0   \n",
       "2                 0            0            0                0   \n",
       "3                 1            1            0                0   \n",
       "4                 0            0            0                0   \n",
       "\n",
       "         Contract  PaperlessBilling              PaymentMethod  \\\n",
       "0  Month-to-month                 1           Electronic check   \n",
       "1        One year                 0               Mailed check   \n",
       "2  Month-to-month                 1               Mailed check   \n",
       "3        One year                 0  Bank transfer (automatic)   \n",
       "4  Month-to-month                 1           Electronic check   \n",
       "\n",
       "   MonthlyCharges  TotalCharges  Churn  \n",
       "0           29.85         29.85      0  \n",
       "1           56.95       1889.50      0  \n",
       "2           53.85        108.15      1  \n",
       "3           42.30       1840.75      0  \n",
       "4           70.70        151.65      1  "
      ]
     },
     "execution_count": 9,
     "metadata": {},
     "output_type": "execute_result"
    }
   ],
   "source": [
    "telco_df.gender = [1 if each == \"Male\" else 0 for each in telco_df.gender]\n",
    "\n",
    "columns_to_convert = ['Partner', \n",
    "                      'Dependents', \n",
    "                      'PhoneService', \n",
    "                      'OnlineSecurity',\n",
    "                      'OnlineBackup',\n",
    "                      'DeviceProtection',\n",
    "                      'TechSupport',\n",
    "                      'StreamingTV',\n",
    "                      'StreamingMovies',\n",
    "                      'PaperlessBilling', \n",
    "                      'Churn',\n",
    "                      'MultipleLines']\n",
    "\n",
    "for item in columns_to_convert:\n",
    "    telco_df[item] = [1 if each == \"Yes\" else 0 if each == \"No\" else -1 for each in telco_df[item]]\n",
    "\n",
    "telco_df.head()"
   ]
  },
  {
   "cell_type": "code",
   "execution_count": 10,
   "id": "b5d5cb66",
   "metadata": {
    "execution": {
     "iopub.execute_input": "2021-10-10T17:48:06.446274Z",
     "iopub.status.busy": "2021-10-10T17:48:06.445552Z",
     "iopub.status.idle": "2021-10-10T17:48:06.466694Z",
     "shell.execute_reply": "2021-10-10T17:48:06.465537Z",
     "shell.execute_reply.started": "2021-10-05T03:36:03.606101Z"
    },
    "papermill": {
     "duration": 0.08177,
     "end_time": "2021-10-10T17:48:06.466915",
     "exception": false,
     "start_time": "2021-10-10T17:48:06.385145",
     "status": "completed"
    },
    "tags": []
   },
   "outputs": [
    {
     "name": "stdout",
     "output_type": "stream",
     "text": [
      "<class 'pandas.core.frame.DataFrame'>\n",
      "Int64Index: 7032 entries, 0 to 7042\n",
      "Data columns (total 20 columns):\n",
      " #   Column            Non-Null Count  Dtype  \n",
      "---  ------            --------------  -----  \n",
      " 0   gender            7032 non-null   int64  \n",
      " 1   SeniorCitizen     7032 non-null   int64  \n",
      " 2   Partner           7032 non-null   int64  \n",
      " 3   Dependents        7032 non-null   int64  \n",
      " 4   tenure            7032 non-null   int64  \n",
      " 5   PhoneService      7032 non-null   int64  \n",
      " 6   MultipleLines     7032 non-null   int64  \n",
      " 7   InternetService   7032 non-null   object \n",
      " 8   OnlineSecurity    7032 non-null   int64  \n",
      " 9   OnlineBackup      7032 non-null   int64  \n",
      " 10  DeviceProtection  7032 non-null   int64  \n",
      " 11  TechSupport       7032 non-null   int64  \n",
      " 12  StreamingTV       7032 non-null   int64  \n",
      " 13  StreamingMovies   7032 non-null   int64  \n",
      " 14  Contract          7032 non-null   object \n",
      " 15  PaperlessBilling  7032 non-null   int64  \n",
      " 16  PaymentMethod     7032 non-null   object \n",
      " 17  MonthlyCharges    7032 non-null   float64\n",
      " 18  TotalCharges      7032 non-null   float64\n",
      " 19  Churn             7032 non-null   int64  \n",
      "dtypes: float64(2), int64(15), object(3)\n",
      "memory usage: 1.1+ MB\n"
     ]
    }
   ],
   "source": [
    "telco_df.info()"
   ]
  },
  {
   "cell_type": "code",
   "execution_count": 11,
   "id": "1d653aa8",
   "metadata": {
    "execution": {
     "iopub.execute_input": "2021-10-10T17:48:06.588040Z",
     "iopub.status.busy": "2021-10-10T17:48:06.586979Z",
     "iopub.status.idle": "2021-10-10T17:48:06.817921Z",
     "shell.execute_reply": "2021-10-10T17:48:06.817378Z",
     "shell.execute_reply.started": "2021-10-05T03:36:03.631056Z"
    },
    "papermill": {
     "duration": 0.292165,
     "end_time": "2021-10-10T17:48:06.818093",
     "exception": false,
     "start_time": "2021-10-10T17:48:06.525928",
     "status": "completed"
    },
    "tags": []
   },
   "outputs": [
    {
     "data": {
      "image/png": "[encoded data removed]",
      "text/plain": [
       "<Figure size 432x288 with 1 Axes>"
      ]
     },
     "metadata": {
      "needs_background": "light"
     },
     "output_type": "display_data"
    }
   ],
   "source": [
    "sns.countplot(x=\"Churn\",data=telco_df);"
   ]
  },
  {
   "cell_type": "code",
   "execution_count": 12,
   "id": "ecf2a434",
   "metadata": {
    "execution": {
     "iopub.execute_input": "2021-10-10T17:48:06.949337Z",
     "iopub.status.busy": "2021-10-10T17:48:06.948675Z",
     "iopub.status.idle": "2021-10-10T17:48:06.952011Z",
     "shell.execute_reply": "2021-10-10T17:48:06.952532Z",
     "shell.execute_reply.started": "2021-10-05T03:36:03.86333Z"
    },
    "papermill": {
     "duration": 0.074805,
     "end_time": "2021-10-10T17:48:06.952705",
     "exception": false,
     "start_time": "2021-10-10T17:48:06.877900",
     "status": "completed"
    },
    "tags": []
   },
   "outputs": [
    {
     "data": {
      "text/plain": [
       "0    5163\n",
       "1    1869\n",
       "Name: Churn, dtype: int64"
      ]
     },
     "execution_count": 12,
     "metadata": {},
     "output_type": "execute_result"
    }
   ],
   "source": [
    "counts = telco_df['Churn'].value_counts()\n",
    "counts"
   ]
  },
  {
   "cell_type": "code",
   "execution_count": 13,
   "id": "8bbce732",
   "metadata": {
    "execution": {
     "iopub.execute_input": "2021-10-10T17:48:07.120096Z",
     "iopub.status.busy": "2021-10-10T17:48:07.118414Z",
     "iopub.status.idle": "2021-10-10T17:48:07.207424Z",
     "shell.execute_reply": "2021-10-10T17:48:07.206626Z",
     "shell.execute_reply.started": "2021-10-05T03:36:03.874402Z"
    },
    "papermill": {
     "duration": 0.192353,
     "end_time": "2021-10-10T17:48:07.207581",
     "exception": false,
     "start_time": "2021-10-10T17:48:07.015228",
     "status": "completed"
    },
    "tags": []
   },
   "outputs": [
    {
     "data": {
      "image/png": "[encoded data removed]",
      "text/plain": [
       "<Figure size 432x288 with 1 Axes>"
      ]
     },
     "metadata": {},
     "output_type": "display_data"
    }
   ],
   "source": [
    "fig, ax = plt.subplots()\n",
    "ax.pie(counts, autopct='%1.1f%%')\n",
    "ax.legend(labels=['1(Stay)', '0(Left)'], title='Customer Churn',loc='lower right')\n",
    "ax.set_title(\"Customer Churn Percentage\")\n",
    "plt.show()"
   ]
  },
  {
   "cell_type": "code",
   "execution_count": 14,
   "id": "43c47f29",
   "metadata": {
    "execution": {
     "iopub.execute_input": "2021-10-10T17:48:07.340054Z",
     "iopub.status.busy": "2021-10-10T17:48:07.338897Z",
     "iopub.status.idle": "2021-10-10T17:48:13.585282Z",
     "shell.execute_reply": "2021-10-10T17:48:13.586093Z",
     "shell.execute_reply.started": "2021-10-05T03:36:04.012384Z"
    },
    "papermill": {
     "duration": 6.315578,
     "end_time": "2021-10-10T17:48:13.586333",
     "exception": false,
     "start_time": "2021-10-10T17:48:07.270755",
     "status": "completed"
    },
    "tags": []
   },
   "outputs": [
    {
     "data": {
      "text/plain": [
       "<seaborn.axisgrid.PairGrid at 0x7f46602d6ad0>"
      ]
     },
     "execution_count": 14,
     "metadata": {},
     "output_type": "execute_result"
    },
    {
     "data": {
      "image/png": "[encoded data removed]",
      "text/plain": [
       "<Figure size 582.375x540 with 12 Axes>"
      ]
     },
     "metadata": {
      "needs_background": "light"
     },
     "output_type": "display_data"
    }
   ],
   "source": [
    "sns.pairplot(telco_df,vars = ['TotalCharges','MonthlyCharges','tenure'], hue=\"Churn\")"
   ]
  },
  {
   "cell_type": "markdown",
   "id": "46f28400",
   "metadata": {
    "papermill": {
     "duration": 0.069868,
     "end_time": "2021-10-10T17:48:13.727153",
     "exception": false,
     "start_time": "2021-10-10T17:48:13.657285",
     "status": "completed"
    },
    "tags": []
   },
   "source": [
    "From the above graph, we can see that people who have lower tenure and higher monthly charges are tend to churn more."
   ]
  },
  {
   "cell_type": "code",
   "execution_count": 15,
   "id": "56c00338",
   "metadata": {
    "execution": {
     "iopub.execute_input": "2021-10-10T17:48:13.869345Z",
     "iopub.status.busy": "2021-10-10T17:48:13.868524Z",
     "iopub.status.idle": "2021-10-10T17:48:13.872336Z",
     "shell.execute_reply": "2021-10-10T17:48:13.871766Z",
     "shell.execute_reply.started": "2021-10-05T03:36:10.272178Z"
    },
    "papermill": {
     "duration": 0.079532,
     "end_time": "2021-10-10T17:48:13.872486",
     "exception": false,
     "start_time": "2021-10-10T17:48:13.792954",
     "status": "completed"
    },
    "tags": []
   },
   "outputs": [
    {
     "data": {
      "text/plain": [
       "Fiber optic    3096\n",
       "DSL            2416\n",
       "No             1520\n",
       "Name: InternetService, dtype: int64"
      ]
     },
     "execution_count": 15,
     "metadata": {},
     "output_type": "execute_result"
    }
   ],
   "source": [
    "counts = telco_df['InternetService'].value_counts()\n",
    "counts"
   ]
  },
  {
   "cell_type": "code",
   "execution_count": 16,
   "id": "b3011167",
   "metadata": {
    "execution": {
     "iopub.execute_input": "2021-10-10T17:48:14.026671Z",
     "iopub.status.busy": "2021-10-10T17:48:14.025958Z",
     "iopub.status.idle": "2021-10-10T17:48:14.193779Z",
     "shell.execute_reply": "2021-10-10T17:48:14.194653Z",
     "shell.execute_reply.started": "2021-10-05T03:36:10.284061Z"
    },
    "papermill": {
     "duration": 0.254472,
     "end_time": "2021-10-10T17:48:14.194928",
     "exception": false,
     "start_time": "2021-10-10T17:48:13.940456",
     "status": "completed"
    },
    "tags": []
   },
   "outputs": [
    {
     "data": {
      "text/plain": [
       "<AxesSubplot:xlabel='InternetService', ylabel='count'>"
      ]
     },
     "execution_count": 16,
     "metadata": {},
     "output_type": "execute_result"
    },
    {
     "data": {
      "image/png": "[encoded data removed]",
      "text/plain": [
       "<Figure size 432x288 with 1 Axes>"
      ]
     },
     "metadata": {},
     "output_type": "display_data"
    }
   ],
   "source": [
    "sns.set(style=\"whitegrid\")\n",
    "sns.countplot(x=\"InternetService\", data = telco_df)"
   ]
  },
  {
   "cell_type": "code",
   "execution_count": 17,
   "id": "0fcbb128",
   "metadata": {
    "execution": {
     "iopub.execute_input": "2021-10-10T17:48:14.331868Z",
     "iopub.status.busy": "2021-10-10T17:48:14.331241Z",
     "iopub.status.idle": "2021-10-10T17:48:14.844074Z",
     "shell.execute_reply": "2021-10-10T17:48:14.844789Z",
     "shell.execute_reply.started": "2021-10-05T03:36:10.53217Z"
    },
    "papermill": {
     "duration": 0.582871,
     "end_time": "2021-10-10T17:48:14.845016",
     "exception": false,
     "start_time": "2021-10-10T17:48:14.262145",
     "status": "completed"
    },
    "tags": []
   },
   "outputs": [
    {
     "data": {
      "image/png": "[encoded data removed]",
      "text/plain": [
       "<Figure size 360x360 with 1 Axes>"
      ]
     },
     "metadata": {},
     "output_type": "display_data"
    }
   ],
   "source": [
    "sns.set(style=\"whitegrid\")\n",
    "g1=sns.catplot(x=\"InternetService\", y=\"Churn\", data=telco_df,kind=\"bar\")\n",
    "g1.set(xlabel='InternerService', ylabel = 'Churn Probability')\n",
    "plt.show()"
   ]
  },
  {
   "cell_type": "code",
   "execution_count": 18,
   "id": "103780ad",
   "metadata": {
    "execution": {
     "iopub.execute_input": "2021-10-10T17:48:15.018434Z",
     "iopub.status.busy": "2021-10-10T17:48:15.016910Z",
     "iopub.status.idle": "2021-10-10T17:48:15.512175Z",
     "shell.execute_reply": "2021-10-10T17:48:15.512736Z",
     "shell.execute_reply.started": "2021-10-05T03:36:11.029389Z"
    },
    "papermill": {
     "duration": 0.591371,
     "end_time": "2021-10-10T17:48:15.512928",
     "exception": false,
     "start_time": "2021-10-10T17:48:14.921557",
     "status": "completed"
    },
    "tags": []
   },
   "outputs": [
    {
     "data": {
      "image/png": "[encoded data removed]",
      "text/plain": [
       "<Figure size 360x360 with 1 Axes>"
      ]
     },
     "metadata": {},
     "output_type": "display_data"
    }
   ],
   "source": [
    "sns.set(style=\"whitegrid\")\n",
    "g1=sns.catplot(x=\"Contract\", y=\"Churn\", data=telco_df,kind=\"bar\")\n",
    "g1.set(xlabel='Contract', ylabel = 'Churn Probability')\n",
    "plt.show()"
   ]
  },
  {
   "cell_type": "code",
   "execution_count": 19,
   "id": "f8b5091b",
   "metadata": {
    "execution": {
     "iopub.execute_input": "2021-10-10T17:48:15.661826Z",
     "iopub.status.busy": "2021-10-10T17:48:15.660797Z",
     "iopub.status.idle": "2021-10-10T17:48:16.196182Z",
     "shell.execute_reply": "2021-10-10T17:48:16.196755Z",
     "shell.execute_reply.started": "2021-10-05T03:36:11.531622Z"
    },
    "papermill": {
     "duration": 0.612201,
     "end_time": "2021-10-10T17:48:16.197019",
     "exception": false,
     "start_time": "2021-10-10T17:48:15.584818",
     "status": "completed"
    },
    "tags": []
   },
   "outputs": [
    {
     "data": {
      "image/png": "[encoded data removed]",
      "text/plain": [
       "<Figure size 360x360 with 1 Axes>"
      ]
     },
     "metadata": {},
     "output_type": "display_data"
    }
   ],
   "source": [
    "sns.set(style=\"whitegrid\")\n",
    "g1=sns.catplot(x=\"PaymentMethod\", y=\"Churn\", data=telco_df,kind=\"bar\")\n",
    "g1.set(xlabel='PaymentMethod', ylabel = 'Churn Probability')\n",
    "plt.show()"
   ]
  },
  {
   "cell_type": "markdown",
   "id": "07bfe773",
   "metadata": {
    "papermill": {
     "duration": 0.076397,
     "end_time": "2021-10-10T17:48:16.348869",
     "exception": false,
     "start_time": "2021-10-10T17:48:16.272472",
     "status": "completed"
    },
    "tags": []
   },
   "source": [
    "Customers having fiber optic internet service, using electronic payment and having month-to-month contract are tend to churn more. However customers having two-year contract and having no internet service are tend to not churn."
   ]
  },
  {
   "cell_type": "code",
   "execution_count": 20,
   "id": "9a205803",
   "metadata": {
    "execution": {
     "iopub.execute_input": "2021-10-10T17:48:16.495613Z",
     "iopub.status.busy": "2021-10-10T17:48:16.494602Z",
     "iopub.status.idle": "2021-10-10T17:48:16.523078Z",
     "shell.execute_reply": "2021-10-10T17:48:16.522441Z",
     "shell.execute_reply.started": "2021-10-05T03:36:12.103212Z"
    },
    "papermill": {
     "duration": 0.103329,
     "end_time": "2021-10-10T17:48:16.523237",
     "exception": false,
     "start_time": "2021-10-10T17:48:16.419908",
     "status": "completed"
    },
    "tags": []
   },
   "outputs": [
    {
     "data": {
      "text/html": [
       "<div>\n",
       "<style scoped>\n",
       "    .dataframe tbody tr th:only-of-type {\n",
       "        vertical-align: middle;\n",
       "    }\n",
       "\n",
       "    .dataframe tbody tr th {\n",
       "        vertical-align: top;\n",
       "    }\n",
       "\n",
       "    .dataframe thead th {\n",
       "        text-align: right;\n",
       "    }\n",
       "</style>\n",
       "<table border=\"1\" class=\"dataframe\">\n",
       "  <thead>\n",
       "    <tr style=\"text-align: right;\">\n",
       "      <th></th>\n",
       "      <th>gender</th>\n",
       "      <th>SeniorCitizen</th>\n",
       "      <th>Partner</th>\n",
       "      <th>Dependents</th>\n",
       "      <th>tenure</th>\n",
       "      <th>PhoneService</th>\n",
       "      <th>MultipleLines</th>\n",
       "      <th>OnlineSecurity</th>\n",
       "      <th>OnlineBackup</th>\n",
       "      <th>DeviceProtection</th>\n",
       "      <th>...</th>\n",
       "      <th>InternetService_DSL</th>\n",
       "      <th>InternetService_Fiber optic</th>\n",
       "      <th>InternetService_No</th>\n",
       "      <th>Contract_Month-to-month</th>\n",
       "      <th>Contract_One year</th>\n",
       "      <th>Contract_Two year</th>\n",
       "      <th>PaymentMethod_Bank transfer (automatic)</th>\n",
       "      <th>PaymentMethod_Credit card (automatic)</th>\n",
       "      <th>PaymentMethod_Electronic check</th>\n",
       "      <th>PaymentMethod_Mailed check</th>\n",
       "    </tr>\n",
       "  </thead>\n",
       "  <tbody>\n",
       "    <tr>\n",
       "      <th>0</th>\n",
       "      <td>0</td>\n",
       "      <td>0</td>\n",
       "      <td>1</td>\n",
       "      <td>0</td>\n",
       "      <td>1</td>\n",
       "      <td>0</td>\n",
       "      <td>-1</td>\n",
       "      <td>0</td>\n",
       "      <td>1</td>\n",
       "      <td>0</td>\n",
       "      <td>...</td>\n",
       "      <td>1</td>\n",
       "      <td>0</td>\n",
       "      <td>0</td>\n",
       "      <td>1</td>\n",
       "      <td>0</td>\n",
       "      <td>0</td>\n",
       "      <td>0</td>\n",
       "      <td>0</td>\n",
       "      <td>1</td>\n",
       "      <td>0</td>\n",
       "    </tr>\n",
       "    <tr>\n",
       "      <th>1</th>\n",
       "      <td>1</td>\n",
       "      <td>0</td>\n",
       "      <td>0</td>\n",
       "      <td>0</td>\n",
       "      <td>34</td>\n",
       "      <td>1</td>\n",
       "      <td>0</td>\n",
       "      <td>1</td>\n",
       "      <td>0</td>\n",
       "      <td>1</td>\n",
       "      <td>...</td>\n",
       "      <td>1</td>\n",
       "      <td>0</td>\n",
       "      <td>0</td>\n",
       "      <td>0</td>\n",
       "      <td>1</td>\n",
       "      <td>0</td>\n",
       "      <td>0</td>\n",
       "      <td>0</td>\n",
       "      <td>0</td>\n",
       "      <td>1</td>\n",
       "    </tr>\n",
       "    <tr>\n",
       "      <th>2</th>\n",
       "      <td>1</td>\n",
       "      <td>0</td>\n",
       "      <td>0</td>\n",
       "      <td>0</td>\n",
       "      <td>2</td>\n",
       "      <td>1</td>\n",
       "      <td>0</td>\n",
       "      <td>1</td>\n",
       "      <td>1</td>\n",
       "      <td>0</td>\n",
       "      <td>...</td>\n",
       "      <td>1</td>\n",
       "      <td>0</td>\n",
       "      <td>0</td>\n",
       "      <td>1</td>\n",
       "      <td>0</td>\n",
       "      <td>0</td>\n",
       "      <td>0</td>\n",
       "      <td>0</td>\n",
       "      <td>0</td>\n",
       "      <td>1</td>\n",
       "    </tr>\n",
       "    <tr>\n",
       "      <th>3</th>\n",
       "      <td>1</td>\n",
       "      <td>0</td>\n",
       "      <td>0</td>\n",
       "      <td>0</td>\n",
       "      <td>45</td>\n",
       "      <td>0</td>\n",
       "      <td>-1</td>\n",
       "      <td>1</td>\n",
       "      <td>0</td>\n",
       "      <td>1</td>\n",
       "      <td>...</td>\n",
       "      <td>1</td>\n",
       "      <td>0</td>\n",
       "      <td>0</td>\n",
       "      <td>0</td>\n",
       "      <td>1</td>\n",
       "      <td>0</td>\n",
       "      <td>1</td>\n",
       "      <td>0</td>\n",
       "      <td>0</td>\n",
       "      <td>0</td>\n",
       "    </tr>\n",
       "    <tr>\n",
       "      <th>4</th>\n",
       "      <td>0</td>\n",
       "      <td>0</td>\n",
       "      <td>0</td>\n",
       "      <td>0</td>\n",
       "      <td>2</td>\n",
       "      <td>1</td>\n",
       "      <td>0</td>\n",
       "      <td>0</td>\n",
       "      <td>0</td>\n",
       "      <td>0</td>\n",
       "      <td>...</td>\n",
       "      <td>0</td>\n",
       "      <td>1</td>\n",
       "      <td>0</td>\n",
       "      <td>1</td>\n",
       "      <td>0</td>\n",
       "      <td>0</td>\n",
       "      <td>0</td>\n",
       "      <td>0</td>\n",
       "      <td>1</td>\n",
       "      <td>0</td>\n",
       "    </tr>\n",
       "  </tbody>\n",
       "</table>\n",
       "<p>5 rows × 27 columns</p>\n",
       "</div>"
      ],
      "text/plain": [
       "   gender  SeniorCitizen  Partner  Dependents  tenure  PhoneService  \\\n",
       "0       0              0        1           0       1             0   \n",
       "1       1              0        0           0      34             1   \n",
       "2       1              0        0           0       2             1   \n",
       "3       1              0        0           0      45             0   \n",
       "4       0              0        0           0       2             1   \n",
       "\n",
       "   MultipleLines  OnlineSecurity  OnlineBackup  DeviceProtection  ...  \\\n",
       "0             -1               0             1                 0  ...   \n",
       "1              0               1             0                 1  ...   \n",
       "2              0               1             1                 0  ...   \n",
       "3             -1               1             0                 1  ...   \n",
       "4              0               0             0                 0  ...   \n",
       "\n",
       "   InternetService_DSL  InternetService_Fiber optic  InternetService_No  \\\n",
       "0                    1                            0                   0   \n",
       "1                    1                            0                   0   \n",
       "2                    1                            0                   0   \n",
       "3                    1                            0                   0   \n",
       "4                    0                            1                   0   \n",
       "\n",
       "   Contract_Month-to-month  Contract_One year  Contract_Two year  \\\n",
       "0                        1                  0                  0   \n",
       "1                        0                  1                  0   \n",
       "2                        1                  0                  0   \n",
       "3                        0                  1                  0   \n",
       "4                        1                  0                  0   \n",
       "\n",
       "   PaymentMethod_Bank transfer (automatic)  \\\n",
       "0                                        0   \n",
       "1                                        0   \n",
       "2                                        0   \n",
       "3                                        1   \n",
       "4                                        0   \n",
       "\n",
       "   PaymentMethod_Credit card (automatic)  PaymentMethod_Electronic check  \\\n",
       "0                                      0                               1   \n",
       "1                                      0                               0   \n",
       "2                                      0                               0   \n",
       "3                                      0                               0   \n",
       "4                                      0                               1   \n",
       "\n",
       "   PaymentMethod_Mailed check  \n",
       "0                           0  \n",
       "1                           1  \n",
       "2                           1  \n",
       "3                           0  \n",
       "4                           0  \n",
       "\n",
       "[5 rows x 27 columns]"
      ]
     },
     "execution_count": 20,
     "metadata": {},
     "output_type": "execute_result"
    }
   ],
   "source": [
    "# Let's create new columns by using pandas get_dummies function.\n",
    "telco_df = pd.get_dummies(data=telco_df)\n",
    "telco_df.head()"
   ]
  },
  {
   "cell_type": "code",
   "execution_count": 21,
   "id": "1244353b",
   "metadata": {
    "execution": {
     "iopub.execute_input": "2021-10-10T17:48:16.670959Z",
     "iopub.status.busy": "2021-10-10T17:48:16.669721Z",
     "iopub.status.idle": "2021-10-10T17:48:16.695172Z",
     "shell.execute_reply": "2021-10-10T17:48:16.694416Z",
     "shell.execute_reply.started": "2021-10-05T03:36:12.138563Z"
    },
    "papermill": {
     "duration": 0.101124,
     "end_time": "2021-10-10T17:48:16.695312",
     "exception": false,
     "start_time": "2021-10-10T17:48:16.594188",
     "status": "completed"
    },
    "tags": []
   },
   "outputs": [
    {
     "data": {
      "text/plain": [
       "tenure                                    -0.354049\n",
       "Contract_Two year                         -0.301552\n",
       "InternetService_No                        -0.227578\n",
       "TotalCharges                              -0.199484\n",
       "Contract_One year                         -0.178225\n",
       "Dependents                                -0.163128\n",
       "Partner                                   -0.149982\n",
       "PaymentMethod_Credit card (automatic)     -0.134687\n",
       "InternetService_DSL                       -0.124141\n",
       "PaymentMethod_Bank transfer (automatic)   -0.118136\n",
       "PaymentMethod_Mailed check                -0.090773\n",
       "gender                                    -0.008545\n",
       "PhoneService                               0.011691\n",
       "OnlineSecurity                             0.023014\n",
       "TechSupport                                0.026744\n",
       "MultipleLines                              0.036148\n",
       "OnlineBackup                               0.073934\n",
       "DeviceProtection                           0.084402\n",
       "SeniorCitizen                              0.150541\n",
       "StreamingMovies                            0.162672\n",
       "StreamingTV                                0.164509\n",
       "PaperlessBilling                           0.191454\n",
       "MonthlyCharges                             0.192858\n",
       "PaymentMethod_Electronic check             0.301455\n",
       "InternetService_Fiber optic                0.307463\n",
       "Contract_Month-to-month                    0.404565\n",
       "Churn                                      1.000000\n",
       "Name: Churn, dtype: float64"
      ]
     },
     "execution_count": 21,
     "metadata": {},
     "output_type": "execute_result"
    }
   ],
   "source": [
    "# Now see the correlation between churn and all of the columns.\n",
    "telco_df.corr()['Churn'].sort_values()"
   ]
  },
  {
   "cell_type": "code",
   "execution_count": 22,
   "id": "829f7f9f",
   "metadata": {
    "execution": {
     "iopub.execute_input": "2021-10-10T17:48:16.844923Z",
     "iopub.status.busy": "2021-10-10T17:48:16.844289Z",
     "iopub.status.idle": "2021-10-10T17:48:16.856719Z",
     "shell.execute_reply": "2021-10-10T17:48:16.856054Z",
     "shell.execute_reply.started": "2021-10-05T03:36:12.166843Z"
    },
    "papermill": {
     "duration": 0.089907,
     "end_time": "2021-10-10T17:48:16.856862",
     "exception": false,
     "start_time": "2021-10-10T17:48:16.766955",
     "status": "completed"
    },
    "tags": []
   },
   "outputs": [
    {
     "name": "stdout",
     "output_type": "stream",
     "text": [
      "<class 'pandas.core.frame.DataFrame'>\n",
      "Int64Index: 7032 entries, 0 to 7042\n",
      "Data columns (total 27 columns):\n",
      " #   Column                                   Non-Null Count  Dtype  \n",
      "---  ------                                   --------------  -----  \n",
      " 0   gender                                   7032 non-null   int64  \n",
      " 1   SeniorCitizen                            7032 non-null   int64  \n",
      " 2   Partner                                  7032 non-null   int64  \n",
      " 3   Dependents                               7032 non-null   int64  \n",
      " 4   tenure                                   7032 non-null   int64  \n",
      " 5   PhoneService                             7032 non-null   int64  \n",
      " 6   MultipleLines                            7032 non-null   int64  \n",
      " 7   OnlineSecurity                           7032 non-null   int64  \n",
      " 8   OnlineBackup                             7032 non-null   int64  \n",
      " 9   DeviceProtection                         7032 non-null   int64  \n",
      " 10  TechSupport                              7032 non-null   int64  \n",
      " 11  StreamingTV                              7032 non-null   int64  \n",
      " 12  StreamingMovies                          7032 non-null   int64  \n",
      " 13  PaperlessBilling                         7032 non-null   int64  \n",
      " 14  MonthlyCharges                           7032 non-null   float64\n",
      " 15  TotalCharges                             7032 non-null   float64\n",
      " 16  Churn                                    7032 non-null   int64  \n",
      " 17  InternetService_DSL                      7032 non-null   uint8  \n",
      " 18  InternetService_Fiber optic              7032 non-null   uint8  \n",
      " 19  InternetService_No                       7032 non-null   uint8  \n",
      " 20  Contract_Month-to-month                  7032 non-null   uint8  \n",
      " 21  Contract_One year                        7032 non-null   uint8  \n",
      " 22  Contract_Two year                        7032 non-null   uint8  \n",
      " 23  PaymentMethod_Bank transfer (automatic)  7032 non-null   uint8  \n",
      " 24  PaymentMethod_Credit card (automatic)    7032 non-null   uint8  \n",
      " 25  PaymentMethod_Electronic check           7032 non-null   uint8  \n",
      " 26  PaymentMethod_Mailed check               7032 non-null   uint8  \n",
      "dtypes: float64(2), int64(15), uint8(10)\n",
      "memory usage: 1.3 MB\n"
     ]
    }
   ],
   "source": [
    "telco_df.info()"
   ]
  },
  {
   "cell_type": "markdown",
   "id": "360e8161",
   "metadata": {
    "papermill": {
     "duration": 0.072835,
     "end_time": "2021-10-10T17:48:17.002560",
     "exception": false,
     "start_time": "2021-10-10T17:48:16.929725",
     "status": "completed"
    },
    "tags": []
   },
   "source": [
    "## PREPARE THE DATA BEFORE TRAINING"
   ]
  },
  {
   "cell_type": "code",
   "execution_count": 23,
   "id": "7732e74c",
   "metadata": {
    "execution": {
     "iopub.execute_input": "2021-10-10T17:48:17.158552Z",
     "iopub.status.busy": "2021-10-10T17:48:17.157495Z",
     "iopub.status.idle": "2021-10-10T17:48:17.169871Z",
     "shell.execute_reply": "2021-10-10T17:48:17.168877Z",
     "shell.execute_reply.started": "2021-10-05T03:36:12.187559Z"
    },
    "papermill": {
     "duration": 0.093302,
     "end_time": "2021-10-10T17:48:17.170054",
     "exception": false,
     "start_time": "2021-10-10T17:48:17.076752",
     "status": "completed"
    },
    "tags": []
   },
   "outputs": [],
   "source": [
    "# Assigning y as input and X as output\n",
    "y = telco_df['Churn']\n",
    "new_data = telco_df.drop(['Churn'], axis=1)\n",
    "X =  (new_data-np.min(new_data))/(np.max(new_data)-np.min(new_data)).values"
   ]
  },
  {
   "cell_type": "code",
   "execution_count": 24,
   "id": "bbe980ca",
   "metadata": {
    "execution": {
     "iopub.execute_input": "2021-10-10T17:48:17.351429Z",
     "iopub.status.busy": "2021-10-10T17:48:17.336534Z",
     "iopub.status.idle": "2021-10-10T17:48:17.355722Z",
     "shell.execute_reply": "2021-10-10T17:48:17.355166Z",
     "shell.execute_reply.started": "2021-10-05T03:36:12.209406Z"
    },
    "papermill": {
     "duration": 0.112201,
     "end_time": "2021-10-10T17:48:17.355875",
     "exception": false,
     "start_time": "2021-10-10T17:48:17.243674",
     "status": "completed"
    },
    "tags": []
   },
   "outputs": [
    {
     "data": {
      "text/html": [
       "<div>\n",
       "<style scoped>\n",
       "    .dataframe tbody tr th:only-of-type {\n",
       "        vertical-align: middle;\n",
       "    }\n",
       "\n",
       "    .dataframe tbody tr th {\n",
       "        vertical-align: top;\n",
       "    }\n",
       "\n",
       "    .dataframe thead th {\n",
       "        text-align: right;\n",
       "    }\n",
       "</style>\n",
       "<table border=\"1\" class=\"dataframe\">\n",
       "  <thead>\n",
       "    <tr style=\"text-align: right;\">\n",
       "      <th></th>\n",
       "      <th>gender</th>\n",
       "      <th>SeniorCitizen</th>\n",
       "      <th>Partner</th>\n",
       "      <th>Dependents</th>\n",
       "      <th>tenure</th>\n",
       "      <th>PhoneService</th>\n",
       "      <th>MultipleLines</th>\n",
       "      <th>OnlineSecurity</th>\n",
       "      <th>OnlineBackup</th>\n",
       "      <th>DeviceProtection</th>\n",
       "      <th>...</th>\n",
       "      <th>InternetService_DSL</th>\n",
       "      <th>InternetService_Fiber optic</th>\n",
       "      <th>InternetService_No</th>\n",
       "      <th>Contract_Month-to-month</th>\n",
       "      <th>Contract_One year</th>\n",
       "      <th>Contract_Two year</th>\n",
       "      <th>PaymentMethod_Bank transfer (automatic)</th>\n",
       "      <th>PaymentMethod_Credit card (automatic)</th>\n",
       "      <th>PaymentMethod_Electronic check</th>\n",
       "      <th>PaymentMethod_Mailed check</th>\n",
       "    </tr>\n",
       "  </thead>\n",
       "  <tbody>\n",
       "    <tr>\n",
       "      <th>0</th>\n",
       "      <td>0.0</td>\n",
       "      <td>0.0</td>\n",
       "      <td>1.0</td>\n",
       "      <td>0.0</td>\n",
       "      <td>0.000000</td>\n",
       "      <td>0.0</td>\n",
       "      <td>0.0</td>\n",
       "      <td>0.5</td>\n",
       "      <td>1.0</td>\n",
       "      <td>0.5</td>\n",
       "      <td>...</td>\n",
       "      <td>1.0</td>\n",
       "      <td>0.0</td>\n",
       "      <td>0.0</td>\n",
       "      <td>1.0</td>\n",
       "      <td>0.0</td>\n",
       "      <td>0.0</td>\n",
       "      <td>0.0</td>\n",
       "      <td>0.0</td>\n",
       "      <td>1.0</td>\n",
       "      <td>0.0</td>\n",
       "    </tr>\n",
       "    <tr>\n",
       "      <th>1</th>\n",
       "      <td>1.0</td>\n",
       "      <td>0.0</td>\n",
       "      <td>0.0</td>\n",
       "      <td>0.0</td>\n",
       "      <td>0.464789</td>\n",
       "      <td>1.0</td>\n",
       "      <td>0.5</td>\n",
       "      <td>1.0</td>\n",
       "      <td>0.5</td>\n",
       "      <td>1.0</td>\n",
       "      <td>...</td>\n",
       "      <td>1.0</td>\n",
       "      <td>0.0</td>\n",
       "      <td>0.0</td>\n",
       "      <td>0.0</td>\n",
       "      <td>1.0</td>\n",
       "      <td>0.0</td>\n",
       "      <td>0.0</td>\n",
       "      <td>0.0</td>\n",
       "      <td>0.0</td>\n",
       "      <td>1.0</td>\n",
       "    </tr>\n",
       "    <tr>\n",
       "      <th>2</th>\n",
       "      <td>1.0</td>\n",
       "      <td>0.0</td>\n",
       "      <td>0.0</td>\n",
       "      <td>0.0</td>\n",
       "      <td>0.014085</td>\n",
       "      <td>1.0</td>\n",
       "      <td>0.5</td>\n",
       "      <td>1.0</td>\n",
       "      <td>1.0</td>\n",
       "      <td>0.5</td>\n",
       "      <td>...</td>\n",
       "      <td>1.0</td>\n",
       "      <td>0.0</td>\n",
       "      <td>0.0</td>\n",
       "      <td>1.0</td>\n",
       "      <td>0.0</td>\n",
       "      <td>0.0</td>\n",
       "      <td>0.0</td>\n",
       "      <td>0.0</td>\n",
       "      <td>0.0</td>\n",
       "      <td>1.0</td>\n",
       "    </tr>\n",
       "    <tr>\n",
       "      <th>3</th>\n",
       "      <td>1.0</td>\n",
       "      <td>0.0</td>\n",
       "      <td>0.0</td>\n",
       "      <td>0.0</td>\n",
       "      <td>0.619718</td>\n",
       "      <td>0.0</td>\n",
       "      <td>0.0</td>\n",
       "      <td>1.0</td>\n",
       "      <td>0.5</td>\n",
       "      <td>1.0</td>\n",
       "      <td>...</td>\n",
       "      <td>1.0</td>\n",
       "      <td>0.0</td>\n",
       "      <td>0.0</td>\n",
       "      <td>0.0</td>\n",
       "      <td>1.0</td>\n",
       "      <td>0.0</td>\n",
       "      <td>1.0</td>\n",
       "      <td>0.0</td>\n",
       "      <td>0.0</td>\n",
       "      <td>0.0</td>\n",
       "    </tr>\n",
       "    <tr>\n",
       "      <th>4</th>\n",
       "      <td>0.0</td>\n",
       "      <td>0.0</td>\n",
       "      <td>0.0</td>\n",
       "      <td>0.0</td>\n",
       "      <td>0.014085</td>\n",
       "      <td>1.0</td>\n",
       "      <td>0.5</td>\n",
       "      <td>0.5</td>\n",
       "      <td>0.5</td>\n",
       "      <td>0.5</td>\n",
       "      <td>...</td>\n",
       "      <td>0.0</td>\n",
       "      <td>1.0</td>\n",
       "      <td>0.0</td>\n",
       "      <td>1.0</td>\n",
       "      <td>0.0</td>\n",
       "      <td>0.0</td>\n",
       "      <td>0.0</td>\n",
       "      <td>0.0</td>\n",
       "      <td>1.0</td>\n",
       "      <td>0.0</td>\n",
       "    </tr>\n",
       "  </tbody>\n",
       "</table>\n",
       "<p>5 rows × 26 columns</p>\n",
       "</div>"
      ],
      "text/plain": [
       "   gender  SeniorCitizen  Partner  Dependents    tenure  PhoneService  \\\n",
       "0     0.0            0.0      1.0         0.0  0.000000           0.0   \n",
       "1     1.0            0.0      0.0         0.0  0.464789           1.0   \n",
       "2     1.0            0.0      0.0         0.0  0.014085           1.0   \n",
       "3     1.0            0.0      0.0         0.0  0.619718           0.0   \n",
       "4     0.0            0.0      0.0         0.0  0.014085           1.0   \n",
       "\n",
       "   MultipleLines  OnlineSecurity  OnlineBackup  DeviceProtection  ...  \\\n",
       "0            0.0             0.5           1.0               0.5  ...   \n",
       "1            0.5             1.0           0.5               1.0  ...   \n",
       "2            0.5             1.0           1.0               0.5  ...   \n",
       "3            0.0             1.0           0.5               1.0  ...   \n",
       "4            0.5             0.5           0.5               0.5  ...   \n",
       "\n",
       "   InternetService_DSL  InternetService_Fiber optic  InternetService_No  \\\n",
       "0                  1.0                          0.0                 0.0   \n",
       "1                  1.0                          0.0                 0.0   \n",
       "2                  1.0                          0.0                 0.0   \n",
       "3                  1.0                          0.0                 0.0   \n",
       "4                  0.0                          1.0                 0.0   \n",
       "\n",
       "   Contract_Month-to-month  Contract_One year  Contract_Two year  \\\n",
       "0                      1.0                0.0                0.0   \n",
       "1                      0.0                1.0                0.0   \n",
       "2                      1.0                0.0                0.0   \n",
       "3                      0.0                1.0                0.0   \n",
       "4                      1.0                0.0                0.0   \n",
       "\n",
       "   PaymentMethod_Bank transfer (automatic)  \\\n",
       "0                                      0.0   \n",
       "1                                      0.0   \n",
       "2                                      0.0   \n",
       "3                                      1.0   \n",
       "4                                      0.0   \n",
       "\n",
       "   PaymentMethod_Credit card (automatic)  PaymentMethod_Electronic check  \\\n",
       "0                                    0.0                             1.0   \n",
       "1                                    0.0                             0.0   \n",
       "2                                    0.0                             0.0   \n",
       "3                                    0.0                             0.0   \n",
       "4                                    0.0                             1.0   \n",
       "\n",
       "   PaymentMethod_Mailed check  \n",
       "0                         0.0  \n",
       "1                         1.0  \n",
       "2                         1.0  \n",
       "3                         0.0  \n",
       "4                         0.0  \n",
       "\n",
       "[5 rows x 26 columns]"
      ]
     },
     "execution_count": 24,
     "metadata": {},
     "output_type": "execute_result"
    }
   ],
   "source": [
    "X[0:5]"
   ]
  },
  {
   "cell_type": "code",
   "execution_count": 25,
   "id": "2a54d526",
   "metadata": {
    "execution": {
     "iopub.execute_input": "2021-10-10T17:48:17.511525Z",
     "iopub.status.busy": "2021-10-10T17:48:17.510628Z",
     "iopub.status.idle": "2021-10-10T17:48:17.515478Z",
     "shell.execute_reply": "2021-10-10T17:48:17.514936Z",
     "shell.execute_reply.started": "2021-10-05T03:36:12.24862Z"
    },
    "papermill": {
     "duration": 0.083751,
     "end_time": "2021-10-10T17:48:17.515629",
     "exception": false,
     "start_time": "2021-10-10T17:48:17.431878",
     "status": "completed"
    },
    "tags": []
   },
   "outputs": [
    {
     "data": {
      "text/plain": [
       "0    0\n",
       "1    0\n",
       "2    1\n",
       "3    0\n",
       "4    1\n",
       "Name: Churn, dtype: int64"
      ]
     },
     "execution_count": 25,
     "metadata": {},
     "output_type": "execute_result"
    }
   ],
   "source": [
    "y[0:5]"
   ]
  },
  {
   "cell_type": "code",
   "execution_count": 26,
   "id": "6f6e24b3",
   "metadata": {
    "execution": {
     "iopub.execute_input": "2021-10-10T17:48:17.673277Z",
     "iopub.status.busy": "2021-10-10T17:48:17.672493Z",
     "iopub.status.idle": "2021-10-10T17:48:17.870076Z",
     "shell.execute_reply": "2021-10-10T17:48:17.869016Z",
     "shell.execute_reply.started": "2021-10-05T03:36:12.266376Z"
    },
    "papermill": {
     "duration": 0.276755,
     "end_time": "2021-10-10T17:48:17.870254",
     "exception": false,
     "start_time": "2021-10-10T17:48:17.593499",
     "status": "completed"
    },
    "tags": []
   },
   "outputs": [],
   "source": [
    "#Split data into Train and Test \n",
    "from sklearn.model_selection import train_test_split\n",
    "X_train, X_test, y_train, y_test = train_test_split(X, y, test_size=0.2,random_state =1)"
   ]
  },
  {
   "cell_type": "markdown",
   "id": "e0307e5e",
   "metadata": {
    "papermill": {
     "duration": 0.078703,
     "end_time": "2021-10-10T17:48:18.025783",
     "exception": false,
     "start_time": "2021-10-10T17:48:17.947080",
     "status": "completed"
    },
    "tags": []
   },
   "source": [
    "## APPLY MACHINE LEARNING ALGORITHMS"
   ]
  },
  {
   "cell_type": "markdown",
   "id": "5525e785",
   "metadata": {
    "papermill": {
     "duration": 0.074491,
     "end_time": "2021-10-10T17:48:18.175285",
     "exception": false,
     "start_time": "2021-10-10T17:48:18.100794",
     "status": "completed"
    },
    "tags": []
   },
   "source": [
    "##### Let's do the \n",
    "* Random Forest Classifier\n",
    "* Support Vector Machine Classifier\n",
    "* K-Nearest Neighbour(KNN)\n",
    "* Naive Bayes\n",
    "* Decision Tree Classification\n",
    "and find the accuracy of each"
   ]
  },
  {
   "cell_type": "markdown",
   "id": "36371fef",
   "metadata": {
    "papermill": {
     "duration": 0.072091,
     "end_time": "2021-10-10T17:48:18.322689",
     "exception": false,
     "start_time": "2021-10-10T17:48:18.250598",
     "status": "completed"
    },
    "tags": []
   },
   "source": [
    "### RandomForestClassifier"
   ]
  },
  {
   "cell_type": "code",
   "execution_count": 27,
   "id": "f52c8bb4",
   "metadata": {
    "execution": {
     "iopub.execute_input": "2021-10-10T17:48:18.479240Z",
     "iopub.status.busy": "2021-10-10T17:48:18.475595Z",
     "iopub.status.idle": "2021-10-10T17:48:18.761847Z",
     "shell.execute_reply": "2021-10-10T17:48:18.762344Z",
     "shell.execute_reply.started": "2021-10-05T03:36:12.467071Z"
    },
    "papermill": {
     "duration": 0.367864,
     "end_time": "2021-10-10T17:48:18.762624",
     "exception": false,
     "start_time": "2021-10-10T17:48:18.394760",
     "status": "completed"
    },
    "tags": []
   },
   "outputs": [
    {
     "data": {
      "text/plain": [
       "RandomForestClassifier(n_estimators=5, random_state=1)"
      ]
     },
     "execution_count": 27,
     "metadata": {},
     "output_type": "execute_result"
    }
   ],
   "source": [
    "from sklearn.ensemble import RandomForestClassifier\n",
    "\n",
    "model_rf=RandomForestClassifier(n_estimators = 5, random_state = 1)\n",
    "model_rf.fit(X_train,y_train.values.ravel())"
   ]
  },
  {
   "cell_type": "code",
   "execution_count": 28,
   "id": "f1233b93",
   "metadata": {
    "execution": {
     "iopub.execute_input": "2021-10-10T17:48:18.923181Z",
     "iopub.status.busy": "2021-10-10T17:48:18.922509Z",
     "iopub.status.idle": "2021-10-10T17:48:18.929688Z",
     "shell.execute_reply": "2021-10-10T17:48:18.930325Z",
     "shell.execute_reply.started": "2021-10-05T03:36:12.756966Z"
    },
    "papermill": {
     "duration": 0.090707,
     "end_time": "2021-10-10T17:48:18.930514",
     "exception": false,
     "start_time": "2021-10-10T17:48:18.839807",
     "status": "completed"
    },
    "tags": []
   },
   "outputs": [],
   "source": [
    "y_predict1=model_rf.predict(X_test)"
   ]
  },
  {
   "cell_type": "code",
   "execution_count": 29,
   "id": "658c0acd",
   "metadata": {
    "execution": {
     "iopub.execute_input": "2021-10-10T17:48:19.089506Z",
     "iopub.status.busy": "2021-10-10T17:48:19.088761Z",
     "iopub.status.idle": "2021-10-10T17:48:19.099177Z",
     "shell.execute_reply": "2021-10-10T17:48:19.098623Z",
     "shell.execute_reply.started": "2021-10-05T03:36:12.769449Z"
    },
    "papermill": {
     "duration": 0.092168,
     "end_time": "2021-10-10T17:48:19.099317",
     "exception": false,
     "start_time": "2021-10-10T17:48:19.007149",
     "status": "completed"
    },
    "tags": []
   },
   "outputs": [
    {
     "name": "stdout",
     "output_type": "stream",
     "text": [
      "              precision    recall  f1-score   support\n",
      "\n",
      "           0       0.83      0.85      0.84      1041\n",
      "           1       0.56      0.52      0.54       366\n",
      "\n",
      "    accuracy                           0.77      1407\n",
      "   macro avg       0.69      0.69      0.69      1407\n",
      "weighted avg       0.76      0.77      0.76      1407\n",
      "\n"
     ]
    }
   ],
   "source": [
    "from sklearn.metrics import classification_report, confusion_matrix\n",
    "print(classification_report(y_test,y_predict1))"
   ]
  },
  {
   "cell_type": "code",
   "execution_count": 30,
   "id": "9b34d291",
   "metadata": {
    "execution": {
     "iopub.execute_input": "2021-10-10T17:48:19.254353Z",
     "iopub.status.busy": "2021-10-10T17:48:19.253658Z",
     "iopub.status.idle": "2021-10-10T17:48:29.529671Z",
     "shell.execute_reply": "2021-10-10T17:48:29.528962Z",
     "shell.execute_reply.started": "2021-10-05T03:36:12.786801Z"
    },
    "papermill": {
     "duration": 10.353509,
     "end_time": "2021-10-10T17:48:29.529841",
     "exception": false,
     "start_time": "2021-10-10T17:48:19.176332",
     "status": "completed"
    },
    "tags": []
   },
   "outputs": [
    {
     "data": {
      "image/png": "[encoded data removed]",
      "text/plain": [
       "<Figure size 432x288 with 1 Axes>"
      ]
     },
     "metadata": {},
     "output_type": "display_data"
    }
   ],
   "source": [
    "# Find the best number for n_estimators\n",
    "score_array = []\n",
    "for number in range(1,50):\n",
    "    rf_loop = RandomForestClassifier(n_estimators = number, random_state = 1) #set K neighbor as 3\n",
    "    rf_loop.fit(X_train,y_train)\n",
    "    score_array.append(rf_loop.score(X_test,y_test))\n",
    "    \n",
    "plt.plot(range(1,50),score_array)\n",
    "plt.xlabel(\"Range\")\n",
    "plt.ylabel(\"Score\")\n",
    "plt.show()"
   ]
  },
  {
   "cell_type": "markdown",
   "id": "3c543756",
   "metadata": {
    "papermill": {
     "duration": 0.074701,
     "end_time": "2021-10-10T17:48:29.680105",
     "exception": false,
     "start_time": "2021-10-10T17:48:29.605404",
     "status": "completed"
    },
    "tags": []
   },
   "source": [
    "As we can see the highest accuracy is at n_estimators = 33"
   ]
  },
  {
   "cell_type": "code",
   "execution_count": 31,
   "id": "49483c87",
   "metadata": {
    "execution": {
     "iopub.execute_input": "2021-10-10T17:48:29.845157Z",
     "iopub.status.busy": "2021-10-10T17:48:29.844433Z",
     "iopub.status.idle": "2021-10-10T17:48:30.114150Z",
     "shell.execute_reply": "2021-10-10T17:48:30.113604Z",
     "shell.execute_reply.started": "2021-10-05T03:36:22.855358Z"
    },
    "papermill": {
     "duration": 0.357736,
     "end_time": "2021-10-10T17:48:30.114299",
     "exception": false,
     "start_time": "2021-10-10T17:48:29.756563",
     "status": "completed"
    },
    "tags": []
   },
   "outputs": [
    {
     "name": "stdout",
     "output_type": "stream",
     "text": [
      "Random Forest accuracy for 5 trees is : 0.7938877043354655\n"
     ]
    }
   ],
   "source": [
    "# Let's use the n_estimators = 33\n",
    "\n",
    "model_rf=RandomForestClassifier(n_estimators = 33, random_state = 1)\n",
    "model_rf.fit(X_train,y_train.values.ravel())\n",
    "print(\"Random Forest accuracy for 5 trees is :\",model_rf.score(X_test,y_test))"
   ]
  },
  {
   "cell_type": "code",
   "execution_count": 32,
   "id": "8e736997",
   "metadata": {
    "execution": {
     "iopub.execute_input": "2021-10-10T17:48:30.268689Z",
     "iopub.status.busy": "2021-10-10T17:48:30.267967Z",
     "iopub.status.idle": "2021-10-10T17:48:30.570757Z",
     "shell.execute_reply": "2021-10-10T17:48:30.570047Z",
     "shell.execute_reply.started": "2021-10-05T03:36:23.135936Z"
    },
    "papermill": {
     "duration": 0.38196,
     "end_time": "2021-10-10T17:48:30.570951",
     "exception": false,
     "start_time": "2021-10-10T17:48:30.188991",
     "status": "completed"
    },
    "tags": []
   },
   "outputs": [
    {
     "data": {
      "text/plain": [
       "<AxesSubplot:>"
      ]
     },
     "execution_count": 32,
     "metadata": {},
     "output_type": "execute_result"
    },
    {
     "data": {
      "image/png": "[encoded data removed]",
      "text/plain": [
       "<Figure size 432x288 with 2 Axes>"
      ]
     },
     "metadata": {},
     "output_type": "display_data"
    }
   ],
   "source": [
    "# Another way of looking at the accuracy of the classifier\n",
    "cm=confusion_matrix(y_test,y_predict1)\n",
    "sns.heatmap(cm,annot=True)"
   ]
  },
  {
   "cell_type": "markdown",
   "id": "5bfeef49",
   "metadata": {
    "papermill": {
     "duration": 0.074927,
     "end_time": "2021-10-10T17:48:30.721790",
     "exception": false,
     "start_time": "2021-10-10T17:48:30.646863",
     "status": "completed"
    },
    "tags": []
   },
   "source": [
    "### SUPPORT VECTOR MACHINE CLASSIFICATION"
   ]
  },
  {
   "cell_type": "code",
   "execution_count": 33,
   "id": "4f5f849f",
   "metadata": {
    "execution": {
     "iopub.execute_input": "2021-10-10T17:48:30.880553Z",
     "iopub.status.busy": "2021-10-10T17:48:30.878041Z",
     "iopub.status.idle": "2021-10-10T17:48:31.994090Z",
     "shell.execute_reply": "2021-10-10T17:48:31.995002Z",
     "shell.execute_reply.started": "2021-10-05T03:36:23.431032Z"
    },
    "papermill": {
     "duration": 1.197313,
     "end_time": "2021-10-10T17:48:31.995310",
     "exception": false,
     "start_time": "2021-10-10T17:48:30.797997",
     "status": "completed"
    },
    "tags": []
   },
   "outputs": [
    {
     "data": {
      "text/plain": [
       "CalibratedClassifierCV(base_estimator=LinearSVC(max_iter=10000))"
      ]
     },
     "execution_count": 33,
     "metadata": {},
     "output_type": "execute_result"
    }
   ],
   "source": [
    "from sklearn.calibration import CalibratedClassifierCV # For probability score output\n",
    "from sklearn.svm import LinearSVC\n",
    "\n",
    "model_svm=LinearSVC(max_iter=10000)\n",
    "model_svm=CalibratedClassifierCV(model_svm)\n",
    "model_svm.fit(X_train,y_train)\n"
   ]
  },
  {
   "cell_type": "code",
   "execution_count": 34,
   "id": "083e0ec6",
   "metadata": {
    "execution": {
     "iopub.execute_input": "2021-10-10T17:48:32.210414Z",
     "iopub.status.busy": "2021-10-10T17:48:32.209112Z",
     "iopub.status.idle": "2021-10-10T17:48:32.217311Z",
     "shell.execute_reply": "2021-10-10T17:48:32.218344Z",
     "shell.execute_reply.started": "2021-10-05T03:36:24.410765Z"
    },
    "papermill": {
     "duration": 0.093707,
     "end_time": "2021-10-10T17:48:32.218650",
     "exception": false,
     "start_time": "2021-10-10T17:48:32.124943",
     "status": "completed"
    },
    "tags": []
   },
   "outputs": [],
   "source": [
    "y_predict2=model_svm.predict(X_test)"
   ]
  },
  {
   "cell_type": "code",
   "execution_count": 35,
   "id": "f0455699",
   "metadata": {
    "execution": {
     "iopub.execute_input": "2021-10-10T17:48:32.436718Z",
     "iopub.status.busy": "2021-10-10T17:48:32.436018Z",
     "iopub.status.idle": "2021-10-10T17:48:32.446822Z",
     "shell.execute_reply": "2021-10-10T17:48:32.447767Z",
     "shell.execute_reply.started": "2021-10-05T03:36:24.434199Z"
    },
    "papermill": {
     "duration": 0.094995,
     "end_time": "2021-10-10T17:48:32.448144",
     "exception": false,
     "start_time": "2021-10-10T17:48:32.353149",
     "status": "completed"
    },
    "tags": []
   },
   "outputs": [
    {
     "name": "stdout",
     "output_type": "stream",
     "text": [
      "              precision    recall  f1-score   support\n",
      "\n",
      "           0       0.84      0.89      0.87      1041\n",
      "           1       0.63      0.52      0.57       366\n",
      "\n",
      "    accuracy                           0.80      1407\n",
      "   macro avg       0.73      0.71      0.72      1407\n",
      "weighted avg       0.79      0.80      0.79      1407\n",
      "\n"
     ]
    }
   ],
   "source": [
    "print(classification_report(y_test,y_predict2))"
   ]
  },
  {
   "cell_type": "code",
   "execution_count": 36,
   "id": "8fcb45a8",
   "metadata": {
    "execution": {
     "iopub.execute_input": "2021-10-10T17:48:32.617655Z",
     "iopub.status.busy": "2021-10-10T17:48:32.616796Z",
     "iopub.status.idle": "2021-10-10T17:48:32.916314Z",
     "shell.execute_reply": "2021-10-10T17:48:32.915782Z",
     "shell.execute_reply.started": "2021-10-05T03:47:43.166602Z"
    },
    "papermill": {
     "duration": 0.387682,
     "end_time": "2021-10-10T17:48:32.916487",
     "exception": false,
     "start_time": "2021-10-10T17:48:32.528805",
     "status": "completed"
    },
    "tags": []
   },
   "outputs": [
    {
     "data": {
      "text/plain": [
       "<AxesSubplot:>"
      ]
     },
     "execution_count": 36,
     "metadata": {},
     "output_type": "execute_result"
    },
    {
     "data": {
      "image/png": "[encoded data removed]",
      "text/plain": [
       "<Figure size 432x288 with 2 Axes>"
      ]
     },
     "metadata": {},
     "output_type": "display_data"
    }
   ],
   "source": [
    "cm=confusion_matrix(y_test,y_predict2)\n",
    "sns.heatmap(cm, annot=True)\n",
    "\n"
   ]
  },
  {
   "cell_type": "markdown",
   "id": "5a41ede8",
   "metadata": {
    "papermill": {
     "duration": 0.081035,
     "end_time": "2021-10-10T17:48:33.079603",
     "exception": false,
     "start_time": "2021-10-10T17:48:32.998568",
     "status": "completed"
    },
    "tags": []
   },
   "source": [
    "### KNN"
   ]
  },
  {
   "cell_type": "code",
   "execution_count": 37,
   "id": "001ee0e8",
   "metadata": {
    "execution": {
     "iopub.execute_input": "2021-10-10T17:48:33.246733Z",
     "iopub.status.busy": "2021-10-10T17:48:33.246024Z",
     "iopub.status.idle": "2021-10-10T17:48:33.284264Z",
     "shell.execute_reply": "2021-10-10T17:48:33.283597Z",
     "shell.execute_reply.started": "2021-10-05T03:36:24.791392Z"
    },
    "papermill": {
     "duration": 0.125452,
     "end_time": "2021-10-10T17:48:33.284411",
     "exception": false,
     "start_time": "2021-10-10T17:48:33.158959",
     "status": "completed"
    },
    "tags": []
   },
   "outputs": [
    {
     "data": {
      "text/plain": [
       "KNeighborsClassifier()"
      ]
     },
     "execution_count": 37,
     "metadata": {},
     "output_type": "execute_result"
    }
   ],
   "source": [
    "from sklearn.neighbors import KNeighborsClassifier\n",
    "\n",
    "model_knn=KNeighborsClassifier()\n",
    "model_knn.fit(X_train,y_train)"
   ]
  },
  {
   "cell_type": "code",
   "execution_count": 38,
   "id": "190a8ad0",
   "metadata": {
    "execution": {
     "iopub.execute_input": "2021-10-10T17:48:33.451068Z",
     "iopub.status.busy": "2021-10-10T17:48:33.450422Z",
     "iopub.status.idle": "2021-10-10T17:48:33.723307Z",
     "shell.execute_reply": "2021-10-10T17:48:33.723786Z",
     "shell.execute_reply.started": "2021-10-05T03:36:24.833162Z"
    },
    "papermill": {
     "duration": 0.360274,
     "end_time": "2021-10-10T17:48:33.723986",
     "exception": false,
     "start_time": "2021-10-10T17:48:33.363712",
     "status": "completed"
    },
    "tags": []
   },
   "outputs": [],
   "source": [
    "y_predict3=model_knn.predict(X_test)"
   ]
  },
  {
   "cell_type": "code",
   "execution_count": 39,
   "id": "fd1449ef",
   "metadata": {
    "execution": {
     "iopub.execute_input": "2021-10-10T17:48:33.890876Z",
     "iopub.status.busy": "2021-10-10T17:48:33.889814Z",
     "iopub.status.idle": "2021-10-10T17:48:33.900481Z",
     "shell.execute_reply": "2021-10-10T17:48:33.900999Z",
     "shell.execute_reply.started": "2021-10-05T03:36:25.109274Z"
    },
    "papermill": {
     "duration": 0.096663,
     "end_time": "2021-10-10T17:48:33.901190",
     "exception": false,
     "start_time": "2021-10-10T17:48:33.804527",
     "status": "completed"
    },
    "tags": []
   },
   "outputs": [
    {
     "name": "stdout",
     "output_type": "stream",
     "text": [
      "              precision    recall  f1-score   support\n",
      "\n",
      "           0       0.83      0.84      0.83      1041\n",
      "           1       0.52      0.49      0.51       366\n",
      "\n",
      "    accuracy                           0.75      1407\n",
      "   macro avg       0.68      0.67      0.67      1407\n",
      "weighted avg       0.75      0.75      0.75      1407\n",
      "\n"
     ]
    }
   ],
   "source": [
    "print(classification_report(y_test,y_predict3))"
   ]
  },
  {
   "cell_type": "code",
   "execution_count": 40,
   "id": "405d1356",
   "metadata": {
    "execution": {
     "iopub.execute_input": "2021-10-10T17:48:34.063831Z",
     "iopub.status.busy": "2021-10-10T17:48:34.062827Z",
     "iopub.status.idle": "2021-10-10T17:48:34.352014Z",
     "shell.execute_reply": "2021-10-10T17:48:34.352607Z",
     "shell.execute_reply.started": "2021-10-05T03:36:25.124604Z"
    },
    "papermill": {
     "duration": 0.37243,
     "end_time": "2021-10-10T17:48:34.352789",
     "exception": false,
     "start_time": "2021-10-10T17:48:33.980359",
     "status": "completed"
    },
    "tags": []
   },
   "outputs": [
    {
     "data": {
      "text/plain": [
       "<AxesSubplot:>"
      ]
     },
     "execution_count": 40,
     "metadata": {},
     "output_type": "execute_result"
    },
    {
     "data": {
      "image/png": "[encoded data removed]",
      "text/plain": [
       "<Figure size 432x288 with 2 Axes>"
      ]
     },
     "metadata": {},
     "output_type": "display_data"
    }
   ],
   "source": [
    "cm=confusion_matrix(y_test,y_predict3)\n",
    "sns.heatmap(cm,annot=True)"
   ]
  },
  {
   "cell_type": "markdown",
   "id": "02c4669a",
   "metadata": {
    "papermill": {
     "duration": 0.080668,
     "end_time": "2021-10-10T17:48:34.513462",
     "exception": false,
     "start_time": "2021-10-10T17:48:34.432794",
     "status": "completed"
    },
    "tags": []
   },
   "source": [
    "### NAIVE BAYES CLASSIFIER"
   ]
  },
  {
   "cell_type": "code",
   "execution_count": 41,
   "id": "85183568",
   "metadata": {
    "execution": {
     "iopub.execute_input": "2021-10-10T17:48:34.678203Z",
     "iopub.status.busy": "2021-10-10T17:48:34.677196Z",
     "iopub.status.idle": "2021-10-10T17:48:34.686059Z",
     "shell.execute_reply": "2021-10-10T17:48:34.685371Z"
    },
    "papermill": {
     "duration": 0.092167,
     "end_time": "2021-10-10T17:48:34.686229",
     "exception": false,
     "start_time": "2021-10-10T17:48:34.594062",
     "status": "completed"
    },
    "tags": []
   },
   "outputs": [],
   "source": [
    "from sklearn.naive_bayes import GaussianNB"
   ]
  },
  {
   "cell_type": "code",
   "execution_count": 42,
   "id": "65998754",
   "metadata": {
    "execution": {
     "iopub.execute_input": "2021-10-10T17:48:34.853689Z",
     "iopub.status.busy": "2021-10-10T17:48:34.852984Z",
     "iopub.status.idle": "2021-10-10T17:48:34.862647Z",
     "shell.execute_reply": "2021-10-10T17:48:34.861976Z"
    },
    "papermill": {
     "duration": 0.095314,
     "end_time": "2021-10-10T17:48:34.862790",
     "exception": false,
     "start_time": "2021-10-10T17:48:34.767476",
     "status": "completed"
    },
    "tags": []
   },
   "outputs": [
    {
     "data": {
      "text/plain": [
       "GaussianNB()"
      ]
     },
     "execution_count": 42,
     "metadata": {},
     "output_type": "execute_result"
    }
   ],
   "source": [
    "model_gnb=GaussianNB()\n",
    "model_gnb.fit(X_train, y_train)"
   ]
  },
  {
   "cell_type": "code",
   "execution_count": 43,
   "id": "d3c1e42b",
   "metadata": {
    "execution": {
     "iopub.execute_input": "2021-10-10T17:48:35.038235Z",
     "iopub.status.busy": "2021-10-10T17:48:35.037313Z",
     "iopub.status.idle": "2021-10-10T17:48:35.041968Z",
     "shell.execute_reply": "2021-10-10T17:48:35.041303Z",
     "shell.execute_reply.started": "2021-10-05T03:58:03.162962Z"
    },
    "papermill": {
     "duration": 0.095093,
     "end_time": "2021-10-10T17:48:35.042135",
     "exception": false,
     "start_time": "2021-10-10T17:48:34.947042",
     "status": "completed"
    },
    "tags": []
   },
   "outputs": [],
   "source": [
    "y_predict4=model_gnb.predict(X_test)"
   ]
  },
  {
   "cell_type": "code",
   "execution_count": 44,
   "id": "0974e38d",
   "metadata": {
    "execution": {
     "iopub.execute_input": "2021-10-10T17:48:35.216254Z",
     "iopub.status.busy": "2021-10-10T17:48:35.215203Z",
     "iopub.status.idle": "2021-10-10T17:48:35.226165Z",
     "shell.execute_reply": "2021-10-10T17:48:35.226855Z",
     "shell.execute_reply.started": "2021-10-05T03:36:25.462535Z"
    },
    "papermill": {
     "duration": 0.100684,
     "end_time": "2021-10-10T17:48:35.227104",
     "exception": false,
     "start_time": "2021-10-10T17:48:35.126420",
     "status": "completed"
    },
    "tags": []
   },
   "outputs": [
    {
     "name": "stdout",
     "output_type": "stream",
     "text": [
      "              precision    recall  f1-score   support\n",
      "\n",
      "           0       0.92      0.68      0.78      1041\n",
      "           1       0.48      0.84      0.61       366\n",
      "\n",
      "    accuracy                           0.72      1407\n",
      "   macro avg       0.70      0.76      0.70      1407\n",
      "weighted avg       0.81      0.72      0.74      1407\n",
      "\n"
     ]
    }
   ],
   "source": [
    "print(classification_report(y_test, y_predict4))"
   ]
  },
  {
   "cell_type": "code",
   "execution_count": 45,
   "id": "8b11b386",
   "metadata": {
    "execution": {
     "iopub.execute_input": "2021-10-10T17:48:35.406648Z",
     "iopub.status.busy": "2021-10-10T17:48:35.398963Z",
     "iopub.status.idle": "2021-10-10T17:48:35.700489Z",
     "shell.execute_reply": "2021-10-10T17:48:35.699838Z",
     "shell.execute_reply.started": "2021-10-05T03:36:25.47717Z"
    },
    "papermill": {
     "duration": 0.389321,
     "end_time": "2021-10-10T17:48:35.700649",
     "exception": false,
     "start_time": "2021-10-10T17:48:35.311328",
     "status": "completed"
    },
    "tags": []
   },
   "outputs": [
    {
     "data": {
      "text/plain": [
       "<AxesSubplot:>"
      ]
     },
     "execution_count": 45,
     "metadata": {},
     "output_type": "execute_result"
    },
    {
     "data": {
      "image/png": "[encoded data removed]",
      "text/plain": [
       "<Figure size 432x288 with 2 Axes>"
      ]
     },
     "metadata": {},
     "output_type": "display_data"
    }
   ],
   "source": [
    "cm = confusion_matrix(y_test, y_predict4)\n",
    "sns.heatmap(cm, annot = True)"
   ]
  },
  {
   "cell_type": "markdown",
   "id": "fa26b110",
   "metadata": {
    "papermill": {
     "duration": 0.084667,
     "end_time": "2021-10-10T17:48:35.870297",
     "exception": false,
     "start_time": "2021-10-10T17:48:35.785630",
     "status": "completed"
    },
    "tags": []
   },
   "source": [
    "### Decision Tree Classification"
   ]
  },
  {
   "cell_type": "code",
   "execution_count": 46,
   "id": "39d1ff03",
   "metadata": {
    "execution": {
     "iopub.execute_input": "2021-10-10T17:48:36.050638Z",
     "iopub.status.busy": "2021-10-10T17:48:36.049569Z",
     "iopub.status.idle": "2021-10-10T17:48:36.086372Z",
     "shell.execute_reply": "2021-10-10T17:48:36.086837Z",
     "shell.execute_reply.started": "2021-10-05T03:36:25.772402Z"
    },
    "papermill": {
     "duration": 0.132363,
     "end_time": "2021-10-10T17:48:36.087016",
     "exception": false,
     "start_time": "2021-10-10T17:48:35.954653",
     "status": "completed"
    },
    "tags": []
   },
   "outputs": [
    {
     "data": {
      "text/plain": [
       "DecisionTreeClassifier()"
      ]
     },
     "execution_count": 46,
     "metadata": {},
     "output_type": "execute_result"
    }
   ],
   "source": [
    "# %%Decision Tree Classification\n",
    "from sklearn.tree import DecisionTreeClassifier\n",
    "model_dt = DecisionTreeClassifier()\n",
    "model_dt.fit(X_train,y_train)"
   ]
  },
  {
   "cell_type": "code",
   "execution_count": 47,
   "id": "75f1f277",
   "metadata": {
    "execution": {
     "iopub.execute_input": "2021-10-10T17:48:36.262759Z",
     "iopub.status.busy": "2021-10-10T17:48:36.261716Z",
     "iopub.status.idle": "2021-10-10T17:48:36.265862Z",
     "shell.execute_reply": "2021-10-10T17:48:36.265298Z",
     "shell.execute_reply.started": "2021-10-05T03:36:25.817762Z"
    },
    "papermill": {
     "duration": 0.094537,
     "end_time": "2021-10-10T17:48:36.266005",
     "exception": false,
     "start_time": "2021-10-10T17:48:36.171468",
     "status": "completed"
    },
    "tags": []
   },
   "outputs": [],
   "source": [
    "y_predict5=model_dt.predict(X_test)"
   ]
  },
  {
   "cell_type": "code",
   "execution_count": 48,
   "id": "3a94a405",
   "metadata": {
    "execution": {
     "iopub.execute_input": "2021-10-10T17:48:36.451349Z",
     "iopub.status.busy": "2021-10-10T17:48:36.450224Z",
     "iopub.status.idle": "2021-10-10T17:48:36.460644Z",
     "shell.execute_reply": "2021-10-10T17:48:36.459922Z",
     "shell.execute_reply.started": "2021-10-05T03:36:25.827717Z"
    },
    "papermill": {
     "duration": 0.101368,
     "end_time": "2021-10-10T17:48:36.460801",
     "exception": false,
     "start_time": "2021-10-10T17:48:36.359433",
     "status": "completed"
    },
    "tags": []
   },
   "outputs": [
    {
     "name": "stdout",
     "output_type": "stream",
     "text": [
      "              precision    recall  f1-score   support\n",
      "\n",
      "           0       0.82      0.79      0.81      1041\n",
      "           1       0.46      0.49      0.48       366\n",
      "\n",
      "    accuracy                           0.72      1407\n",
      "   macro avg       0.64      0.64      0.64      1407\n",
      "weighted avg       0.72      0.72      0.72      1407\n",
      "\n"
     ]
    }
   ],
   "source": [
    "print(classification_report(y_test, y_predict5))"
   ]
  },
  {
   "cell_type": "code",
   "execution_count": 49,
   "id": "ec4e2164",
   "metadata": {
    "execution": {
     "iopub.execute_input": "2021-10-10T17:48:36.640331Z",
     "iopub.status.busy": "2021-10-10T17:48:36.639401Z",
     "iopub.status.idle": "2021-10-10T17:48:36.935314Z",
     "shell.execute_reply": "2021-10-10T17:48:36.935871Z",
     "shell.execute_reply.started": "2021-10-05T03:58:19.819377Z"
    },
    "papermill": {
     "duration": 0.387853,
     "end_time": "2021-10-10T17:48:36.936072",
     "exception": false,
     "start_time": "2021-10-10T17:48:36.548219",
     "status": "completed"
    },
    "tags": []
   },
   "outputs": [
    {
     "data": {
      "text/plain": [
       "<AxesSubplot:>"
      ]
     },
     "execution_count": 49,
     "metadata": {},
     "output_type": "execute_result"
    },
    {
     "data": {
      "image/png": "[encoded data removed]",
      "text/plain": [
       "<Figure size 432x288 with 2 Axes>"
      ]
     },
     "metadata": {},
     "output_type": "display_data"
    }
   ],
   "source": [
    "cm = confusion_matrix(y_test, y_predict5)\n",
    "sns.heatmap(cm, annot = True)"
   ]
  },
  {
   "cell_type": "code",
   "execution_count": 50,
   "id": "47b9e6f6",
   "metadata": {
    "execution": {
     "iopub.execute_input": "2021-10-10T17:48:37.112502Z",
     "iopub.status.busy": "2021-10-10T17:48:37.111469Z",
     "iopub.status.idle": "2021-10-10T17:48:37.166431Z",
     "shell.execute_reply": "2021-10-10T17:48:37.164697Z",
     "shell.execute_reply.started": "2021-10-05T03:58:28.706967Z"
    },
    "papermill": {
     "duration": 0.143991,
     "end_time": "2021-10-10T17:48:37.166834",
     "exception": false,
     "start_time": "2021-10-10T17:48:37.022843",
     "status": "completed"
    },
    "tags": []
   },
   "outputs": [
    {
     "name": "stdout",
     "output_type": "stream",
     "text": [
      "Random Forest Classifier accuracy : 0.7938877043354655\n",
      "SVM accuracy : 0.7953091684434968\n",
      "KNN accuracy : 0.7953091684434968\n",
      "Naive Bayes accuracy : 0.7953091684434968\n",
      "Decision Tree accuracy : 0.7157071783937455\n"
     ]
    }
   ],
   "source": [
    "# Print all results of each algorithm\n",
    "print(\"Random Forest Classifier accuracy :\", model_rf.score(X_test,y_test))\n",
    "print(\"SVM accuracy :\", model_svm.score(X_test,y_test))\n",
    "print(\"KNN accuracy :\", model_svm.score(X_test,y_test))\n",
    "print(\"Naive Bayes accuracy :\", model_svm.score(X_test,y_test))\n",
    "print(\"Decision Tree accuracy :\", model_dt.score(X_test,y_test))"
   ]
  },
  {
   "cell_type": "code",
   "execution_count": 51,
   "id": "3d2bde75",
   "metadata": {
    "execution": {
     "iopub.execute_input": "2021-10-10T17:48:37.392859Z",
     "iopub.status.busy": "2021-10-10T17:48:37.392131Z",
     "iopub.status.idle": "2021-10-10T17:48:37.430766Z",
     "shell.execute_reply": "2021-10-10T17:48:37.430177Z",
     "shell.execute_reply.started": "2021-10-05T03:58:38.390964Z"
    },
    "papermill": {
     "duration": 0.129342,
     "end_time": "2021-10-10T17:48:37.430918",
     "exception": false,
     "start_time": "2021-10-10T17:48:37.301576",
     "status": "completed"
    },
    "tags": []
   },
   "outputs": [
    {
     "name": "stdout",
     "output_type": "stream",
     "text": [
      "Random Forest Classifier(RFC):\n",
      "RFC:               precision    recall  f1-score   support\n",
      "\n",
      "           0       0.83      0.85      0.84      1041\n",
      "           1       0.56      0.52      0.54       366\n",
      "\n",
      "    accuracy                           0.77      1407\n",
      "   macro avg       0.69      0.69      0.69      1407\n",
      "weighted avg       0.76      0.77      0.76      1407\n",
      "\n",
      "\n",
      "SVM:               precision    recall  f1-score   support\n",
      "\n",
      "           0       0.84      0.89      0.87      1041\n",
      "           1       0.63      0.52      0.57       366\n",
      "\n",
      "    accuracy                           0.80      1407\n",
      "   macro avg       0.73      0.71      0.72      1407\n",
      "weighted avg       0.79      0.80      0.79      1407\n",
      "\n",
      "\n",
      "KNN:\n",
      "              precision    recall  f1-score   support\n",
      "\n",
      "           0       0.83      0.84      0.83      1041\n",
      "           1       0.52      0.49      0.51       366\n",
      "\n",
      "    accuracy                           0.75      1407\n",
      "   macro avg       0.68      0.67      0.67      1407\n",
      "weighted avg       0.75      0.75      0.75      1407\n",
      "\n",
      "\n",
      "Naive Bayes:\n",
      "              precision    recall  f1-score   support\n",
      "\n",
      "           0       0.92      0.68      0.78      1041\n",
      "           1       0.48      0.84      0.61       366\n",
      "\n",
      "    accuracy                           0.72      1407\n",
      "   macro avg       0.70      0.76      0.70      1407\n",
      "weighted avg       0.81      0.72      0.74      1407\n",
      "\n",
      "\n",
      "Decision Tree:\n",
      "              precision    recall  f1-score   support\n",
      "\n",
      "           0       0.82      0.79      0.81      1041\n",
      "           1       0.46      0.49      0.48       366\n",
      "\n",
      "    accuracy                           0.72      1407\n",
      "   macro avg       0.64      0.64      0.64      1407\n",
      "weighted avg       0.72      0.72      0.72      1407\n",
      "\n"
     ]
    }
   ],
   "source": [
    "# Compare the Classication_report for each algorithm\n",
    "print(\"Random Forest Classifier(RFC):\")\n",
    "print(\"RFC:\",classification_report(y_test, y_predict1))\n",
    "print()\n",
    "print(\"SVM:\", classification_report(y_test, y_predict2))\n",
    "print()\n",
    "print(\"KNN:\")\n",
    "print(classification_report(y_test, y_predict3))\n",
    "print()\n",
    "print(\"Naive Bayes:\")\n",
    "print(classification_report(y_test, y_predict4))\n",
    "print()\n",
    "print(\"Decision Tree:\")\n",
    "print(classification_report(y_test, y_predict5))\n"
   ]
  },
  {
   "cell_type": "markdown",
   "id": "3404374e",
   "metadata": {
    "papermill": {
     "duration": 0.087962,
     "end_time": "2021-10-10T17:48:37.607369",
     "exception": false,
     "start_time": "2021-10-10T17:48:37.519407",
     "status": "completed"
    },
    "tags": []
   },
   "source": [
    "* **SVM** performed the highest F1 Score among all algorithms. F1 score is the harmonic average of the precision and recall. The nearer the F1 score to the value 1 the better the precision and recall.\n",
    "* **Precision** is a measure of the accuracy provided that a class label has been predicted where precision = TP / (TP + FP)\n",
    "* **Recall** is the true positive rate where recall = TP / (TP + FN)"
   ]
  },
  {
   "cell_type": "markdown",
   "id": "81210769",
   "metadata": {
    "papermill": {
     "duration": 0.087827,
     "end_time": "2021-10-10T17:48:37.780063",
     "exception": false,
     "start_time": "2021-10-10T17:48:37.692236",
     "status": "completed"
    },
    "tags": []
   },
   "source": [
    "### PLOT ROC CURVES FOR THE 5 MODELS AND FIND AUC SCORES¶"
   ]
  },
  {
   "cell_type": "markdown",
   "id": "4bdc32bd",
   "metadata": {
    "papermill": {
     "duration": 0.08458,
     "end_time": "2021-10-10T17:48:37.952899",
     "exception": false,
     "start_time": "2021-10-10T17:48:37.868319",
     "status": "completed"
    },
    "tags": []
   },
   "source": [
    "ROC Curve is a metric that assesses the model ability to distinguish between binary (0 or 1) classes. The ROC curve is created by plotting the true positive rate(TPR) against the false positive rate (FPR) at various threshold setting. Points above the diagonal line represent good classification (better than random)."
   ]
  },
  {
   "cell_type": "code",
   "execution_count": 52,
   "id": "f00862c3",
   "metadata": {
    "execution": {
     "iopub.execute_input": "2021-10-10T17:48:38.144497Z",
     "iopub.status.busy": "2021-10-10T17:48:38.142849Z",
     "iopub.status.idle": "2021-10-10T17:48:38.157379Z",
     "shell.execute_reply": "2021-10-10T17:48:38.158318Z",
     "shell.execute_reply.started": "2021-10-05T03:58:51.16024Z"
    },
    "papermill": {
     "duration": 0.113105,
     "end_time": "2021-10-10T17:48:38.158621",
     "exception": false,
     "start_time": "2021-10-10T17:48:38.045516",
     "status": "completed"
    },
    "tags": []
   },
   "outputs": [
    {
     "data": {
      "text/plain": [
       "array([[0.98973955, 0.01026045],\n",
       "       [0.298409  , 0.701591  ],\n",
       "       [0.88233756, 0.11766244],\n",
       "       ...,\n",
       "       [0.88402489, 0.11597511],\n",
       "       [0.95169426, 0.04830574],\n",
       "       [0.83259544, 0.16740456]])"
      ]
     },
     "execution_count": 52,
     "metadata": {},
     "output_type": "execute_result"
    }
   ],
   "source": [
    "model_svm.predict_proba(X_test)"
   ]
  },
  {
   "cell_type": "code",
   "execution_count": 53,
   "id": "0088aee6",
   "metadata": {
    "execution": {
     "iopub.execute_input": "2021-10-10T17:48:38.394510Z",
     "iopub.status.busy": "2021-10-10T17:48:38.393258Z",
     "iopub.status.idle": "2021-10-10T17:48:38.404812Z",
     "shell.execute_reply": "2021-10-10T17:48:38.405785Z",
     "shell.execute_reply.started": "2021-10-05T03:58:54.509951Z"
    },
    "papermill": {
     "duration": 0.105225,
     "end_time": "2021-10-10T17:48:38.406061",
     "exception": false,
     "start_time": "2021-10-10T17:48:38.300836",
     "status": "completed"
    },
    "tags": []
   },
   "outputs": [
    {
     "data": {
      "text/plain": [
       "array([0.01026045, 0.701591  , 0.11766244, ..., 0.11597511, 0.04830574,\n",
       "       0.16740456])"
      ]
     },
     "execution_count": 53,
     "metadata": {},
     "output_type": "execute_result"
    }
   ],
   "source": [
    "model_svm.predict_proba(X_test)[:, 1]"
   ]
  },
  {
   "cell_type": "code",
   "execution_count": 54,
   "id": "1a1653ed",
   "metadata": {
    "execution": {
     "iopub.execute_input": "2021-10-10T17:48:38.645227Z",
     "iopub.status.busy": "2021-10-10T17:48:38.643838Z",
     "iopub.status.idle": "2021-10-10T17:48:38.953698Z",
     "shell.execute_reply": "2021-10-10T17:48:38.952849Z",
     "shell.execute_reply.started": "2021-10-05T03:59:00.055655Z"
    },
    "papermill": {
     "duration": 0.407686,
     "end_time": "2021-10-10T17:48:38.953852",
     "exception": false,
     "start_time": "2021-10-10T17:48:38.546166",
     "status": "completed"
    },
    "tags": []
   },
   "outputs": [],
   "source": [
    "# ROC curve\n",
    "from sklearn.metrics import roc_curve\n",
    "\n",
    "fpr1, tpr1, thresh1 = roc_curve(y_test, model_svm.predict_proba(X_test)[:, 1], pos_label = 1)\n",
    "fpr2, tpr2, thresh2 = roc_curve(y_test, model_dt.predict_proba(X_test)[:, 1], pos_label = 1)\n",
    "fpr3, tpr3, thresh3 = roc_curve(y_test, model_gnb.predict_proba(X_test)[:, 1], pos_label = 1)\n",
    "fpr4, tpr4, thresh4 = roc_curve(y_test, model_knn.predict_proba(X_test)[:, 1], pos_label = 1)\n",
    "fpr5, tpr5, thresh5 = roc_curve(y_test, model_rf.predict_proba(X_test)[:, 1], pos_label = 1)\n"
   ]
  },
  {
   "cell_type": "code",
   "execution_count": 55,
   "id": "2ed34e2c",
   "metadata": {
    "execution": {
     "iopub.execute_input": "2021-10-10T17:48:39.151078Z",
     "iopub.status.busy": "2021-10-10T17:48:39.149360Z",
     "iopub.status.idle": "2021-10-10T17:48:39.464025Z",
     "shell.execute_reply": "2021-10-10T17:48:39.464854Z",
     "shell.execute_reply.started": "2021-10-05T04:04:03.453578Z"
    },
    "papermill": {
     "duration": 0.424243,
     "end_time": "2021-10-10T17:48:39.465140",
     "exception": false,
     "start_time": "2021-10-10T17:48:39.040897",
     "status": "completed"
    },
    "tags": []
   },
   "outputs": [
    {
     "name": "stdout",
     "output_type": "stream",
     "text": [
      "Support Vector Machine:  0.8440825078870149\n",
      "Decision Tree:  0.6443586190243723\n",
      "Naive Bayes:  0.8282271145336293\n",
      "K-Nearest Neighbors:  0.7804785226479374\n",
      "Random Forest:  0.8168795242069679\n"
     ]
    }
   ],
   "source": [
    "# AUC score\n",
    "\n",
    "from sklearn.metrics import roc_auc_score\n",
    "auc_score1 = roc_auc_score(y_test, model_svm.predict_proba(X_test)[:, 1])\n",
    "auc_score2 = roc_auc_score(y_test, model_dt.predict_proba(X_test)[:, 1])\n",
    "auc_score3 = roc_auc_score(y_test, model_gnb.predict_proba(X_test)[:, 1])\n",
    "auc_score4 = roc_auc_score(y_test, model_knn.predict_proba(X_test)[:, 1])\n",
    "auc_score5 = roc_auc_score(y_test, model_rf.predict_proba(X_test)[:, 1])\n",
    "\n",
    "\n",
    "\n",
    "print(\"Support Vector Machine: \", auc_score1) # Support Vector Machine\n",
    "print(\"Decision Tree: \", auc_score2) # Decision Tree\n",
    "print(\"Naive Bayes: \", auc_score3) # Naive Bayes\n",
    "print(\"K-Nearest Neighbors: \", auc_score4) # K-Nearest Neighbors\n",
    "print(\"Random Forest: \", auc_score5) # Random Forest"
   ]
  },
  {
   "cell_type": "code",
   "execution_count": 56,
   "id": "bbbce2b9",
   "metadata": {
    "execution": {
     "iopub.execute_input": "2021-10-10T17:48:39.649674Z",
     "iopub.status.busy": "2021-10-10T17:48:39.648852Z",
     "iopub.status.idle": "2021-10-10T17:48:40.322982Z",
     "shell.execute_reply": "2021-10-10T17:48:40.323569Z",
     "shell.execute_reply.started": "2021-10-05T04:14:48.92323Z"
    },
    "papermill": {
     "duration": 0.770421,
     "end_time": "2021-10-10T17:48:40.323767",
     "exception": false,
     "start_time": "2021-10-10T17:48:39.553346",
     "status": "completed"
    },
    "tags": []
   },
   "outputs": [
    {
     "data": {
      "image/png": "[encoded data removed]",
      "text/plain": [
       "<Figure size 432x288 with 1 Axes>"
      ]
     },
     "metadata": {},
     "output_type": "display_data"
    }
   ],
   "source": [
    "plt.plot(fpr1, tpr1, linestyle = \"--\", color = \"black\", label = \"SVM\")\n",
    "plt.plot(fpr2, tpr2, linestyle = \"--\", color = \"red\", label = \"Decision Tree\")\n",
    "plt.plot(fpr3, tpr3, linestyle = \"--\", color = \"green\", label = \"Naive bayes\")\n",
    "plt.plot(fpr4, tpr4, linestyle = \"--\", color = \"purple\", label = \"KNN\")\n",
    "plt.plot(fpr5, tpr5, linestyle = \"--\", color = \"orange\", label = \"Random Forest\")\n",
    "\n",
    "\n",
    "#plt.title(\"Receiver Operator Characteristics ROC\")\n",
    "plt.xlabel(\"False Positive Rate\")\n",
    "plt.ylabel(\"True Positive rate\")\n",
    "\n",
    "plt.legend(loc = 'best')\n",
    "plt.savefig('ROC', dpi = 300)\n",
    "plt.show()"
   ]
  },
  {
   "cell_type": "markdown",
   "id": "7ab4022d",
   "metadata": {
    "papermill": {
     "duration": 0.089921,
     "end_time": "2021-10-10T17:48:40.500360",
     "exception": false,
     "start_time": "2021-10-10T17:48:40.410439",
     "status": "completed"
    },
    "tags": []
   },
   "source": [
    "### CONCLUSION"
   ]
  },
  {
   "cell_type": "markdown",
   "id": "5cd33805",
   "metadata": {
    "papermill": {
     "duration": 0.086601,
     "end_time": "2021-10-10T17:48:40.675096",
     "exception": false,
     "start_time": "2021-10-10T17:48:40.588495",
     "status": "completed"
    },
    "tags": []
   },
   "source": [
    "* The graph shows that  Support Vector Machine algorithm produced the best AUC score. \n",
    "* Support Vector Machine algorithm also shows the highest F1  Score, so it is the best model\n",
    "* The Decision Tree algorithm shows the lowest AUC score\n",
    "* Customers having fiber optic internet service, using electronic payment and having month-to-month contract are tend to churn more\n",
    "* Custmers having two-year contract and having no internet service are tend to not churn\n",
    " "
   ]
  }
 ],
 "metadata": {
  "kernelspec": {
   "display_name": "Python 3",
   "language": "python",
   "name": "python3"
  },
  "language_info": {
   "codemirror_mode": {
    "name": "ipython",
    "version": 3
   },
   "file_extension": ".py",
   "mimetype": "text/x-python",
   "name": "python",
   "nbconvert_exporter": "python",
   "pygments_lexer": "ipython3",
   "version": "3.7.10"
  },
  "papermill": {
   "default_parameters": {},
   "duration": 51.112669,
   "end_time": "2021-10-10T17:48:41.981640",
   "environment_variables": {},
   "exception": null,
   "input_path": "__notebook__.ipynb",
   "output_path": "__notebook__.ipynb",
   "parameters": {},
   "start_time": "2021-10-10T17:47:50.868971",
   "version": "2.3.3"
  }
 },
 "nbformat": 4,
 "nbformat_minor": 5
}
